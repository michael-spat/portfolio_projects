{
 "cells": [
  {
   "cell_type": "markdown",
   "id": "386f2ae7",
   "metadata": {
    "deletable": false,
    "editable": false,
    "hideCode": false,
    "hidePrompt": false,
    "id": "386f2ae7"
   },
   "source": [
    "# Исследование надежности заемщиков\n"
   ]
  },
  {
   "cell_type": "markdown",
   "id": "ffe86f65",
   "metadata": {
    "deletable": false,
    "editable": false,
    "hideCode": false,
    "hidePrompt": false,
    "id": "ffe86f65"
   },
   "source": [
    "Во второй части проекта вы выполните шаги 3 и 4. Их вручную проверит ревьюер.\n",
    "Чтобы вам не пришлось писать код заново для шагов 1 и 2, мы добавили авторские решения в ячейки с кодом. \n",
    "\n"
   ]
  },
  {
   "cell_type": "markdown",
   "id": "26613308",
   "metadata": {
    "deletable": false,
    "editable": false,
    "hideCode": false,
    "hidePrompt": false,
    "id": "26613308"
   },
   "source": [
    "## Откройте таблицу и изучите общую информацию о данных"
   ]
  },
  {
   "cell_type": "markdown",
   "id": "3c9f838e",
   "metadata": {
    "deletable": false,
    "editable": false,
    "hideCode": false,
    "hidePrompt": false,
    "id": "3c9f838e"
   },
   "source": [
    "**Задание 1. Импортируйте библиотеку pandas. Считайте данные из csv-файла в датафрейм и сохраните в переменную `data`. Путь к файлу:**\n",
    "\n",
    "`/datasets/data.csv`"
   ]
  },
  {
   "cell_type": "code",
   "execution_count": 1,
   "id": "77a68a90",
   "metadata": {
    "deletable": false,
    "hideCode": false,
    "hidePrompt": false,
    "id": "77a68a90"
   },
   "outputs": [],
   "source": [
    "# загрузим библиотеки\n",
    "import pandas as pd\n",
    "import matplotlib.pyplot as plt\n",
    "import seaborn as sns"
   ]
  },
  {
   "cell_type": "markdown",
   "id": "e628dbd5",
   "metadata": {
    "hideCode": false,
    "hidePrompt": false
   },
   "source": [
    "Загрузим датасет в датафрейм `data`."
   ]
  },
  {
   "cell_type": "code",
   "execution_count": 2,
   "id": "fd678903",
   "metadata": {
    "hideCode": true,
    "hidePrompt": false
   },
   "outputs": [],
   "source": [
    "data = pd.read_csv('https://code.s3.yandex.net/datasets/data.csv')"
   ]
  },
  {
   "cell_type": "markdown",
   "id": "45365635",
   "metadata": {
    "deletable": false,
    "editable": false,
    "hideCode": false,
    "hidePrompt": false,
    "id": "45365635"
   },
   "source": [
    "**Задание 2. Выведите первые 20 строчек датафрейма `data` на экран.**"
   ]
  },
  {
   "cell_type": "code",
   "execution_count": 3,
   "id": "b0451a9a",
   "metadata": {
    "deletable": false,
    "hideCode": false,
    "hidePrompt": false,
    "id": "b0451a9a",
    "outputId": "1a8f3ef2-d323-4ec2-ddf7-89670b5944c4"
   },
   "outputs": [
    {
     "data": {
      "text/html": [
       "<div>\n",
       "<style scoped>\n",
       "    .dataframe tbody tr th:only-of-type {\n",
       "        vertical-align: middle;\n",
       "    }\n",
       "\n",
       "    .dataframe tbody tr th {\n",
       "        vertical-align: top;\n",
       "    }\n",
       "\n",
       "    .dataframe thead th {\n",
       "        text-align: right;\n",
       "    }\n",
       "</style>\n",
       "<table border=\"1\" class=\"dataframe\">\n",
       "  <thead>\n",
       "    <tr style=\"text-align: right;\">\n",
       "      <th></th>\n",
       "      <th>children</th>\n",
       "      <th>days_employed</th>\n",
       "      <th>dob_years</th>\n",
       "      <th>education</th>\n",
       "      <th>education_id</th>\n",
       "      <th>family_status</th>\n",
       "      <th>family_status_id</th>\n",
       "      <th>gender</th>\n",
       "      <th>income_type</th>\n",
       "      <th>debt</th>\n",
       "      <th>total_income</th>\n",
       "      <th>purpose</th>\n",
       "    </tr>\n",
       "  </thead>\n",
       "  <tbody>\n",
       "    <tr>\n",
       "      <th>0</th>\n",
       "      <td>1</td>\n",
       "      <td>-8437.673028</td>\n",
       "      <td>42</td>\n",
       "      <td>высшее</td>\n",
       "      <td>0</td>\n",
       "      <td>женат / замужем</td>\n",
       "      <td>0</td>\n",
       "      <td>F</td>\n",
       "      <td>сотрудник</td>\n",
       "      <td>0</td>\n",
       "      <td>253875.639453</td>\n",
       "      <td>покупка жилья</td>\n",
       "    </tr>\n",
       "    <tr>\n",
       "      <th>1</th>\n",
       "      <td>1</td>\n",
       "      <td>-4024.803754</td>\n",
       "      <td>36</td>\n",
       "      <td>среднее</td>\n",
       "      <td>1</td>\n",
       "      <td>женат / замужем</td>\n",
       "      <td>0</td>\n",
       "      <td>F</td>\n",
       "      <td>сотрудник</td>\n",
       "      <td>0</td>\n",
       "      <td>112080.014102</td>\n",
       "      <td>приобретение автомобиля</td>\n",
       "    </tr>\n",
       "    <tr>\n",
       "      <th>2</th>\n",
       "      <td>0</td>\n",
       "      <td>-5623.422610</td>\n",
       "      <td>33</td>\n",
       "      <td>Среднее</td>\n",
       "      <td>1</td>\n",
       "      <td>женат / замужем</td>\n",
       "      <td>0</td>\n",
       "      <td>M</td>\n",
       "      <td>сотрудник</td>\n",
       "      <td>0</td>\n",
       "      <td>145885.952297</td>\n",
       "      <td>покупка жилья</td>\n",
       "    </tr>\n",
       "    <tr>\n",
       "      <th>3</th>\n",
       "      <td>3</td>\n",
       "      <td>-4124.747207</td>\n",
       "      <td>32</td>\n",
       "      <td>среднее</td>\n",
       "      <td>1</td>\n",
       "      <td>женат / замужем</td>\n",
       "      <td>0</td>\n",
       "      <td>M</td>\n",
       "      <td>сотрудник</td>\n",
       "      <td>0</td>\n",
       "      <td>267628.550329</td>\n",
       "      <td>дополнительное образование</td>\n",
       "    </tr>\n",
       "    <tr>\n",
       "      <th>4</th>\n",
       "      <td>0</td>\n",
       "      <td>340266.072047</td>\n",
       "      <td>53</td>\n",
       "      <td>среднее</td>\n",
       "      <td>1</td>\n",
       "      <td>гражданский брак</td>\n",
       "      <td>1</td>\n",
       "      <td>F</td>\n",
       "      <td>пенсионер</td>\n",
       "      <td>0</td>\n",
       "      <td>158616.077870</td>\n",
       "      <td>сыграть свадьбу</td>\n",
       "    </tr>\n",
       "  </tbody>\n",
       "</table>\n",
       "</div>"
      ],
      "text/plain": [
       "   children  days_employed  dob_years education  education_id  \\\n",
       "0         1   -8437.673028         42    высшее             0   \n",
       "1         1   -4024.803754         36   среднее             1   \n",
       "2         0   -5623.422610         33   Среднее             1   \n",
       "3         3   -4124.747207         32   среднее             1   \n",
       "4         0  340266.072047         53   среднее             1   \n",
       "\n",
       "      family_status  family_status_id gender income_type  debt   total_income  \\\n",
       "0   женат / замужем                 0      F   сотрудник     0  253875.639453   \n",
       "1   женат / замужем                 0      F   сотрудник     0  112080.014102   \n",
       "2   женат / замужем                 0      M   сотрудник     0  145885.952297   \n",
       "3   женат / замужем                 0      M   сотрудник     0  267628.550329   \n",
       "4  гражданский брак                 1      F   пенсионер     0  158616.077870   \n",
       "\n",
       "                      purpose  \n",
       "0               покупка жилья  \n",
       "1     приобретение автомобиля  \n",
       "2               покупка жилья  \n",
       "3  дополнительное образование  \n",
       "4             сыграть свадьбу  "
      ]
     },
     "execution_count": 3,
     "metadata": {},
     "output_type": "execute_result"
    }
   ],
   "source": [
    "data.head()"
   ]
  },
  {
   "cell_type": "markdown",
   "id": "0ed8f27f",
   "metadata": {
    "deletable": false,
    "editable": false,
    "hideCode": false,
    "hidePrompt": false,
    "id": "0ed8f27f"
   },
   "source": [
    "**Задание 3. Выведите основную информацию о датафрейме с помощью метода `info()`.**"
   ]
  },
  {
   "cell_type": "code",
   "execution_count": 4,
   "id": "ab3f863b",
   "metadata": {
    "deletable": false,
    "hideCode": false,
    "hidePrompt": false,
    "id": "ab3f863b",
    "outputId": "15376089-8dad-46c9-b520-c05248d43158"
   },
   "outputs": [
    {
     "name": "stdout",
     "output_type": "stream",
     "text": [
      "<class 'pandas.core.frame.DataFrame'>\n",
      "RangeIndex: 21525 entries, 0 to 21524\n",
      "Data columns (total 12 columns):\n",
      " #   Column            Non-Null Count  Dtype  \n",
      "---  ------            --------------  -----  \n",
      " 0   children          21525 non-null  int64  \n",
      " 1   days_employed     19351 non-null  float64\n",
      " 2   dob_years         21525 non-null  int64  \n",
      " 3   education         21525 non-null  object \n",
      " 4   education_id      21525 non-null  int64  \n",
      " 5   family_status     21525 non-null  object \n",
      " 6   family_status_id  21525 non-null  int64  \n",
      " 7   gender            21525 non-null  object \n",
      " 8   income_type       21525 non-null  object \n",
      " 9   debt              21525 non-null  int64  \n",
      " 10  total_income      19351 non-null  float64\n",
      " 11  purpose           21525 non-null  object \n",
      "dtypes: float64(2), int64(5), object(5)\n",
      "memory usage: 2.0+ MB\n"
     ]
    }
   ],
   "source": [
    "data.info()"
   ]
  },
  {
   "cell_type": "markdown",
   "id": "60e3e22d",
   "metadata": {
    "deletable": false,
    "editable": false,
    "hideCode": false,
    "hidePrompt": false,
    "id": "60e3e22d"
   },
   "source": [
    "## Предобработка данных"
   ]
  },
  {
   "cell_type": "markdown",
   "id": "03dc170c",
   "metadata": {
    "deletable": false,
    "editable": false,
    "hideCode": false,
    "hidePrompt": false,
    "id": "03dc170c"
   },
   "source": [
    "### Удаление пропусков"
   ]
  },
  {
   "cell_type": "markdown",
   "id": "a4f54eef",
   "metadata": {
    "deletable": false,
    "editable": false,
    "hideCode": false,
    "hidePrompt": false,
    "id": "a4f54eef"
   },
   "source": [
    "**Задание 4. Выведите количество пропущенных значений для каждого столбца. Используйте комбинацию двух методов.**"
   ]
  },
  {
   "cell_type": "code",
   "execution_count": 5,
   "id": "2dc372b2",
   "metadata": {
    "deletable": false,
    "hideCode": false,
    "hidePrompt": false,
    "id": "2dc372b2",
    "outputId": "81f4d817-781c-465c-ed15-91ce4446810d"
   },
   "outputs": [
    {
     "data": {
      "text/plain": [
       "children               0\n",
       "days_employed       2174\n",
       "dob_years              0\n",
       "education              0\n",
       "education_id           0\n",
       "family_status          0\n",
       "family_status_id       0\n",
       "gender                 0\n",
       "income_type            0\n",
       "debt                   0\n",
       "total_income        2174\n",
       "purpose                0\n",
       "dtype: int64"
      ]
     },
     "execution_count": 5,
     "metadata": {},
     "output_type": "execute_result"
    }
   ],
   "source": [
    "data.isna().sum()"
   ]
  },
  {
   "cell_type": "markdown",
   "id": "14f011b1",
   "metadata": {
    "deletable": false,
    "editable": false,
    "hideCode": false,
    "hidePrompt": false,
    "id": "14f011b1"
   },
   "source": [
    "**Задание 5. В двух столбцах есть пропущенные значения. Один из них — `days_employed`. Пропуски в этом столбце вы обработаете на следующем этапе. Другой столбец с пропущенными значениями — `total_income` — хранит данные о доходах. На сумму дохода сильнее всего влияет тип занятости, поэтому заполнить пропуски в этом столбце нужно медианным значением по каждому типу из столбца `income_type`. Например, у человека с типом занятости `сотрудник` пропуск в столбце `total_income` должен быть заполнен медианным доходом среди всех записей с тем же типом.**"
   ]
  },
  {
   "cell_type": "code",
   "execution_count": 6,
   "id": "bdabfb6e",
   "metadata": {
    "deletable": false,
    "hideCode": false,
    "hidePrompt": false,
    "id": "bdabfb6e"
   },
   "outputs": [],
   "source": [
    "for t in data['income_type'].unique():\n",
    "    data.loc[(data['income_type'] == t) & (data['total_income'].isna()), 'total_income'] = \\\n",
    "    data.loc[(data['income_type'] == t), 'total_income'].median()"
   ]
  },
  {
   "cell_type": "markdown",
   "id": "5be34059",
   "metadata": {
    "deletable": false,
    "editable": false,
    "hideCode": false,
    "hidePrompt": false,
    "id": "5be34059"
   },
   "source": [
    "### Обработка аномальных значений"
   ]
  },
  {
   "cell_type": "markdown",
   "id": "a87606cb",
   "metadata": {
    "deletable": false,
    "editable": false,
    "hideCode": false,
    "hidePrompt": false,
    "id": "a87606cb"
   },
   "source": [
    "**Задание 6. В данных могут встречаться артефакты (аномалии) — значения, которые не отражают действительность и появились по какой-то ошибке. таким артефактом будет отрицательное количество дней трудового стажа в столбце `days_employed`. Для реальных данных это нормально. Обработайте значения в этом столбце: замените все отрицательные значения положительными с помощью метода `abs()`.**"
   ]
  },
  {
   "cell_type": "code",
   "execution_count": 7,
   "id": "020c46cc",
   "metadata": {
    "deletable": false,
    "hideCode": false,
    "hidePrompt": false,
    "id": "020c46cc"
   },
   "outputs": [],
   "source": [
    "data['days_employed'] = data['days_employed'].abs()"
   ]
  },
  {
   "cell_type": "markdown",
   "id": "45538a3a",
   "metadata": {
    "deletable": false,
    "editable": false,
    "hideCode": false,
    "hidePrompt": false,
    "id": "45538a3a"
   },
   "source": [
    "**Задание 7. Для каждого типа занятости выведите медианное значение трудового стажа `days_employed` в днях.**"
   ]
  },
  {
   "cell_type": "code",
   "execution_count": 8,
   "id": "cd3e6328",
   "metadata": {
    "deletable": false,
    "hideCode": false,
    "hidePrompt": false,
    "id": "cd3e6328",
    "outputId": "801ef80e-522b-4668-f34e-565af7432bcf"
   },
   "outputs": [
    {
     "data": {
      "text/plain": [
       "income_type\n",
       "безработный        366413.652744\n",
       "в декрете            3296.759962\n",
       "госслужащий          2689.368353\n",
       "компаньон            1547.382223\n",
       "пенсионер          365213.306266\n",
       "предприниматель       520.848083\n",
       "сотрудник            1574.202821\n",
       "студент               578.751554\n",
       "Name: days_employed, dtype: float64"
      ]
     },
     "execution_count": 8,
     "metadata": {},
     "output_type": "execute_result"
    }
   ],
   "source": [
    "data.groupby('income_type')['days_employed'].agg('median')"
   ]
  },
  {
   "cell_type": "markdown",
   "id": "90c5f058",
   "metadata": {
    "deletable": false,
    "editable": false,
    "hideCode": false,
    "hidePrompt": false,
    "id": "90c5f058"
   },
   "source": [
    "У двух типов (безработные и пенсионеры) получатся аномально большие значения. Исправить такие значения сложно, поэтому оставьте их как есть."
   ]
  },
  {
   "cell_type": "markdown",
   "id": "9652e50d",
   "metadata": {
    "deletable": false,
    "editable": false,
    "hideCode": false,
    "hidePrompt": false,
    "id": "9652e50d"
   },
   "source": [
    "**Задание 8. Выведите перечень уникальных значений столбца `children`.**"
   ]
  },
  {
   "cell_type": "code",
   "execution_count": 9,
   "id": "dbb37b8e",
   "metadata": {
    "deletable": false,
    "hideCode": false,
    "hidePrompt": false,
    "id": "dbb37b8e",
    "outputId": "6975b15c-7f95-4697-d16d-a0c79b657b03"
   },
   "outputs": [
    {
     "data": {
      "text/plain": [
       "array([ 1,  0,  3,  2, -1,  4, 20,  5], dtype=int64)"
      ]
     },
     "execution_count": 9,
     "metadata": {},
     "output_type": "execute_result"
    }
   ],
   "source": [
    "data['children'].unique()"
   ]
  },
  {
   "cell_type": "markdown",
   "id": "08c4bac4",
   "metadata": {
    "hideCode": false,
    "hidePrompt": false
   },
   "source": [
    "**Задание 8.1. Выведите перечень уникальных значений столбца `gender`.**"
   ]
  },
  {
   "cell_type": "code",
   "execution_count": 10,
   "id": "05d168e5",
   "metadata": {
    "hideCode": false,
    "hidePrompt": false
   },
   "outputs": [
    {
     "data": {
      "text/plain": [
       "array(['F', 'M', 'XNA'], dtype=object)"
      ]
     },
     "execution_count": 10,
     "metadata": {},
     "output_type": "execute_result"
    }
   ],
   "source": [
    "# Находим уникальные значения для столбца 'gender'.\n",
    "data['gender'].unique()"
   ]
  },
  {
   "cell_type": "markdown",
   "id": "2b8b0715",
   "metadata": {
    "deletable": false,
    "editable": false,
    "hideCode": false,
    "hidePrompt": false,
    "id": "2b8b0715"
   },
   "source": [
    "**Задание 9. В столбце `children` есть два аномальных значения. Удалите строки, в которых встречаются такие аномальные значения из датафрейма `data`.**"
   ]
  },
  {
   "cell_type": "code",
   "execution_count": 11,
   "id": "20009df8",
   "metadata": {
    "deletable": false,
    "hideCode": false,
    "hidePrompt": false,
    "id": "20009df8"
   },
   "outputs": [],
   "source": [
    "data = data[(data['children'] != -1) & (data['children'] != 20)]"
   ]
  },
  {
   "cell_type": "markdown",
   "id": "8f2be5ad",
   "metadata": {
    "editable": false,
    "hideCode": false,
    "hidePrompt": false,
    "id": "2b8b0715"
   },
   "source": [
    "**Задание 9. В столбце `children` есть два аномальных значения. Удалите строки, в которых встречаются такие аномальные значения из датафрейма `data`.**"
   ]
  },
  {
   "cell_type": "markdown",
   "id": "fd933d20",
   "metadata": {
    "hideCode": false,
    "hidePrompt": false,
    "id": "20009df8"
   },
   "source": [
    "**Задание 9.1 В столбце `gender` есть аномальное значение. Удалите строки, в которых встречается такое аномальное значение из датафрейма `data`.**"
   ]
  },
  {
   "cell_type": "code",
   "execution_count": 12,
   "id": "6e07670a",
   "metadata": {
    "hideCode": false,
    "hidePrompt": false
   },
   "outputs": [],
   "source": [
    "data = data[(data['gender'] == 'M') | (data['gender'] == 'F')]"
   ]
  },
  {
   "cell_type": "markdown",
   "id": "8c6ac9f1",
   "metadata": {
    "deletable": false,
    "editable": false,
    "hideCode": false,
    "hidePrompt": false,
    "id": "8c6ac9f1"
   },
   "source": [
    "**Задание 10. Ещё раз выведите перечень уникальных значений столбца `children`, чтобы убедиться, что артефакты удалены.**"
   ]
  },
  {
   "cell_type": "code",
   "execution_count": 13,
   "id": "07337b81",
   "metadata": {
    "deletable": false,
    "hideCode": false,
    "hidePrompt": false,
    "id": "07337b81",
    "outputId": "b2097101-d49d-44d9-901b-32a65c9463d1"
   },
   "outputs": [
    {
     "data": {
      "text/plain": [
       "array([1, 0, 3, 2, 4, 5], dtype=int64)"
      ]
     },
     "execution_count": 13,
     "metadata": {},
     "output_type": "execute_result"
    }
   ],
   "source": [
    "data['children'].unique()"
   ]
  },
  {
   "cell_type": "markdown",
   "id": "533e05df",
   "metadata": {
    "hideCode": false,
    "hidePrompt": false
   },
   "source": [
    "**Задание 10.1 Ещё раз выведите перечень уникальных значений столбца `gender`, чтобы убедиться, что артефакты удалены.**"
   ]
  },
  {
   "cell_type": "code",
   "execution_count": 14,
   "id": "5a9d00fc",
   "metadata": {
    "hideCode": false,
    "hidePrompt": false
   },
   "outputs": [
    {
     "data": {
      "text/plain": [
       "array(['F', 'M'], dtype=object)"
      ]
     },
     "execution_count": 14,
     "metadata": {},
     "output_type": "execute_result"
    }
   ],
   "source": [
    "data['gender'].unique()"
   ]
  },
  {
   "cell_type": "markdown",
   "id": "ee3f52d4",
   "metadata": {
    "deletable": false,
    "editable": false,
    "hideCode": false,
    "hidePrompt": false,
    "id": "ee3f52d4"
   },
   "source": [
    "### Удаление пропусков (продолжение)"
   ]
  },
  {
   "cell_type": "markdown",
   "id": "a700b0e4",
   "metadata": {
    "deletable": false,
    "editable": false,
    "hideCode": false,
    "hidePrompt": false,
    "id": "a700b0e4"
   },
   "source": [
    "**Задание 11. Заполните пропуски в столбце `days_employed` медианными значениями по каждого типа занятости `income_type`.**"
   ]
  },
  {
   "cell_type": "code",
   "execution_count": 15,
   "id": "61946b83",
   "metadata": {
    "deletable": false,
    "hideCode": false,
    "hidePrompt": false,
    "id": "61946b83"
   },
   "outputs": [],
   "source": [
    "for t in data['income_type'].unique():\n",
    "    data.loc[(data['income_type'] == t) & (data['days_employed'].isna()), 'days_employed'] = \\\n",
    "    data.loc[(data['income_type'] == t), 'days_employed'].median()"
   ]
  },
  {
   "cell_type": "markdown",
   "id": "550dcd9b",
   "metadata": {
    "deletable": false,
    "editable": false,
    "hideCode": false,
    "hidePrompt": false,
    "id": "550dcd9b"
   },
   "source": [
    "**Задание 12. Убедитесь, что все пропуски заполнены. Проверьте себя и ещё раз выведите количество пропущенных значений для каждого столбца с помощью двух методов.**"
   ]
  },
  {
   "cell_type": "code",
   "execution_count": 16,
   "id": "937c7014",
   "metadata": {
    "deletable": false,
    "hideCode": false,
    "hidePrompt": false,
    "id": "937c7014",
    "outputId": "8da1e4e1-358e-4e87-98c9-f261bce0a7b2"
   },
   "outputs": [
    {
     "data": {
      "text/plain": [
       "children            0\n",
       "days_employed       0\n",
       "dob_years           0\n",
       "education           0\n",
       "education_id        0\n",
       "family_status       0\n",
       "family_status_id    0\n",
       "gender              0\n",
       "income_type         0\n",
       "debt                0\n",
       "total_income        0\n",
       "purpose             0\n",
       "dtype: int64"
      ]
     },
     "execution_count": 16,
     "metadata": {},
     "output_type": "execute_result"
    }
   ],
   "source": [
    "data.isna().sum()"
   ]
  },
  {
   "cell_type": "markdown",
   "id": "d522e295",
   "metadata": {
    "deletable": false,
    "editable": false,
    "hideCode": false,
    "hidePrompt": false,
    "id": "d522e295"
   },
   "source": [
    "### Изменение типов данных"
   ]
  },
  {
   "cell_type": "markdown",
   "id": "c229c581",
   "metadata": {
    "deletable": false,
    "editable": false,
    "hideCode": false,
    "hidePrompt": false,
    "id": "c229c581"
   },
   "source": [
    "**Задание 13. Замените вещественный тип данных в столбце `total_income` на целочисленный с помощью метода `astype()`.**"
   ]
  },
  {
   "cell_type": "code",
   "execution_count": 17,
   "id": "31036462",
   "metadata": {
    "deletable": false,
    "hideCode": false,
    "hidePrompt": false,
    "id": "31036462"
   },
   "outputs": [],
   "source": [
    "data['total_income'] = data['total_income'].astype(int)"
   ]
  },
  {
   "cell_type": "markdown",
   "id": "b8e3d1d9",
   "metadata": {
    "deletable": false,
    "editable": false,
    "hideCode": false,
    "hidePrompt": false,
    "id": "b8e3d1d9"
   },
   "source": [
    "### Обработка дубликатов"
   ]
  },
  {
   "cell_type": "markdown",
   "id": "9be53c49",
   "metadata": {
    "deletable": false,
    "editable": false,
    "hideCode": false,
    "hidePrompt": false,
    "id": "9be53c49"
   },
   "source": [
    "**Задание 14. Обработайте неявные дубликаты в столбце `education`. В этом столбце есть одни и те же значения, но записанные по-разному: с использованием заглавных и строчных букв. Приведите их к нижнему регистру.**"
   ]
  },
  {
   "cell_type": "code",
   "execution_count": 18,
   "id": "d89e73e1",
   "metadata": {
    "deletable": false,
    "hideCode": false,
    "hidePrompt": false,
    "id": "d89e73e1"
   },
   "outputs": [],
   "source": [
    "data['education'] = data['education'].str.lower()"
   ]
  },
  {
   "cell_type": "markdown",
   "id": "01d4500e",
   "metadata": {
    "deletable": false,
    "editable": false,
    "hideCode": false,
    "hidePrompt": false,
    "id": "01d4500e"
   },
   "source": [
    "**Задание 15. Выведите на экран количество строк-дубликатов в данных. Если такие строки присутствуют, удалите их.**"
   ]
  },
  {
   "cell_type": "code",
   "execution_count": 19,
   "id": "e10efb23",
   "metadata": {
    "deletable": false,
    "hideCode": false,
    "hidePrompt": false,
    "id": "e10efb23",
    "outputId": "9684deba-1934-42d1-99e1-cda61740f822"
   },
   "outputs": [
    {
     "data": {
      "text/plain": [
       "71"
      ]
     },
     "execution_count": 19,
     "metadata": {},
     "output_type": "execute_result"
    }
   ],
   "source": [
    "data.duplicated().sum()"
   ]
  },
  {
   "cell_type": "code",
   "execution_count": 20,
   "id": "df853f20",
   "metadata": {
    "deletable": false,
    "hideCode": false,
    "hidePrompt": false,
    "id": "df853f20"
   },
   "outputs": [],
   "source": [
    "data = data.drop_duplicates()"
   ]
  },
  {
   "cell_type": "markdown",
   "id": "627be38f",
   "metadata": {
    "deletable": false,
    "editable": false,
    "hideCode": false,
    "hidePrompt": false,
    "id": "627be38f"
   },
   "source": [
    "### Категоризация данных"
   ]
  },
  {
   "cell_type": "markdown",
   "id": "4684c3e0",
   "metadata": {
    "deletable": false,
    "editable": false,
    "hideCode": false,
    "hidePrompt": false,
    "id": "4684c3e0"
   },
   "source": [
    "**Задание 16. На основании диапазонов, указанных ниже, создайте в датафрейме `data` столбец `total_income_category` с категориями:**\n",
    "\n",
    "- 0–30000 — `'E'`;\n",
    "- 30001–50000 — `'D'`;\n",
    "- 50001–200000 — `'C'`;\n",
    "- 200001–1000000 — `'B'`;\n",
    "- 1000001 и выше — `'A'`.\n",
    "\n",
    "\n",
    "**Например, кредитополучателю с доходом 25000 нужно назначить категорию `'E'`, а клиенту, получающему 235000, — `'B'`. Используйте собственную функцию с именем `categorize_income()` и метод `apply()`.**"
   ]
  },
  {
   "cell_type": "code",
   "execution_count": 21,
   "id": "78965238",
   "metadata": {
    "deletable": false,
    "hideCode": false,
    "hidePrompt": false,
    "id": "78965238"
   },
   "outputs": [],
   "source": [
    "def categorize_income(income):\n",
    "    try:\n",
    "        if 0 <= income <= 30000:\n",
    "            return 'E'\n",
    "        elif 30001 <= income <= 50000:\n",
    "            return 'D'\n",
    "        elif 50001 <= income <= 200000:\n",
    "            return 'C'\n",
    "        elif 200001 <= income <= 1000000:\n",
    "            return 'B'\n",
    "        elif income >= 1000001:\n",
    "            return 'A'\n",
    "    except:\n",
    "        pass"
   ]
  },
  {
   "cell_type": "code",
   "execution_count": 22,
   "id": "0980ada1",
   "metadata": {
    "deletable": false,
    "hideCode": false,
    "hidePrompt": false,
    "id": "0980ada1"
   },
   "outputs": [],
   "source": [
    "data['total_income_category'] = data['total_income'].apply(categorize_income)"
   ]
  },
  {
   "cell_type": "markdown",
   "id": "9917bba0",
   "metadata": {
    "deletable": false,
    "editable": false,
    "hideCode": false,
    "hidePrompt": false,
    "id": "9917bba0"
   },
   "source": [
    "**Задание 17. Выведите на экран перечень уникальных целей взятия кредита из столбца `purpose`.**"
   ]
  },
  {
   "cell_type": "code",
   "execution_count": 23,
   "id": "ee07b65e",
   "metadata": {
    "deletable": false,
    "hideCode": false,
    "hidePrompt": false,
    "id": "ee07b65e",
    "outputId": "673c12d9-7d7e-4ae0-9812-c622c89dd244"
   },
   "outputs": [
    {
     "data": {
      "text/plain": [
       "array(['покупка жилья', 'приобретение автомобиля',\n",
       "       'дополнительное образование', 'сыграть свадьбу',\n",
       "       'операции с жильем', 'образование', 'на проведение свадьбы',\n",
       "       'покупка жилья для семьи', 'покупка недвижимости',\n",
       "       'покупка коммерческой недвижимости', 'покупка жилой недвижимости',\n",
       "       'строительство собственной недвижимости', 'недвижимость',\n",
       "       'строительство недвижимости', 'на покупку подержанного автомобиля',\n",
       "       'на покупку своего автомобиля',\n",
       "       'операции с коммерческой недвижимостью',\n",
       "       'строительство жилой недвижимости', 'жилье',\n",
       "       'операции со своей недвижимостью', 'автомобили',\n",
       "       'заняться образованием', 'сделка с подержанным автомобилем',\n",
       "       'получение образования', 'автомобиль', 'свадьба',\n",
       "       'получение дополнительного образования', 'покупка своего жилья',\n",
       "       'операции с недвижимостью', 'получение высшего образования',\n",
       "       'свой автомобиль', 'сделка с автомобилем',\n",
       "       'профильное образование', 'высшее образование',\n",
       "       'покупка жилья для сдачи', 'на покупку автомобиля', 'ремонт жилью',\n",
       "       'заняться высшим образованием'], dtype=object)"
      ]
     },
     "execution_count": 23,
     "metadata": {},
     "output_type": "execute_result"
    }
   ],
   "source": [
    "data['purpose'].unique()"
   ]
  },
  {
   "cell_type": "markdown",
   "id": "52b79d56",
   "metadata": {
    "deletable": false,
    "editable": false,
    "hideCode": false,
    "hidePrompt": false,
    "id": "52b79d56"
   },
   "source": [
    "**Задание 18. Создайте функцию, которая на основании данных из столбца `purpose` сформирует новый столбец `purpose_category`, в который войдут следующие категории:**\n",
    "\n",
    "- `'операции с автомобилем'`,\n",
    "- `'операции с недвижимостью'`,\n",
    "- `'проведение свадьбы'`,\n",
    "- `'получение образования'`.\n",
    "\n",
    "**Например, если в столбце `purpose` находится подстрока `'на покупку автомобиля'`, то в столбце `purpose_category` должна появиться строка `'операции с автомобилем'`.**\n",
    "\n",
    "**Используйте собственную функцию с именем `categorize_purpose()` и метод `apply()`. Изучите данные в столбце `purpose` и определите, какие подстроки помогут вам правильно определить категорию.**"
   ]
  },
  {
   "cell_type": "code",
   "execution_count": 24,
   "id": "be41da5d",
   "metadata": {
    "deletable": false,
    "hideCode": false,
    "hidePrompt": false,
    "id": "be41da5d"
   },
   "outputs": [],
   "source": [
    "def categorize_purpose(row):\n",
    "    try:\n",
    "        if 'автом' in row:\n",
    "            return 'операции с автомобилем'\n",
    "        elif 'жил' in row or 'недвиж' in row:\n",
    "            return 'операции с недвижимостью'\n",
    "        elif 'свад' in row:\n",
    "            return 'проведение свадьбы'\n",
    "        elif 'образов' in row:\n",
    "            return 'получение образования'\n",
    "    except:\n",
    "        return 'нет категории'"
   ]
  },
  {
   "cell_type": "code",
   "execution_count": 25,
   "id": "94c4a19a",
   "metadata": {
    "deletable": false,
    "hideCode": false,
    "hidePrompt": false,
    "id": "94c4a19a"
   },
   "outputs": [],
   "source": [
    "data['purpose_category'] = data['purpose'].apply(categorize_purpose)"
   ]
  },
  {
   "cell_type": "markdown",
   "id": "3d596c34",
   "metadata": {
    "deletable": false,
    "editable": false,
    "hideCode": false,
    "hidePrompt": false,
    "id": "3d596c34"
   },
   "source": [
    "### Шаг 3. Исследуйте данные и ответьте на вопросы"
   ]
  },
  {
   "cell_type": "markdown",
   "id": "648db036",
   "metadata": {
    "deletable": false,
    "editable": false,
    "hideCode": false,
    "hidePrompt": false,
    "id": "648db036"
   },
   "source": [
    "#### 3.1 Есть ли зависимость между количеством детей и возвратом кредита в срок?"
   ]
  },
  {
   "cell_type": "markdown",
   "id": "bf5e3c16",
   "metadata": {
    "hideCode": false,
    "hidePrompt": false
   },
   "source": [
    "**Для выявления зависимости между количеством детей и возвратом кредита в срок нам потребуется доля должников для каждой когорты от общего числа заемщиков в когорте. Когорты в данном случае формируются по количеству детей.**"
   ]
  },
  {
   "cell_type": "code",
   "execution_count": 26,
   "id": "e9449df7",
   "metadata": {
    "hideCode": false,
    "hidePrompt": false
   },
   "outputs": [
    {
     "data": {
      "text/html": [
       "<div>\n",
       "<style scoped>\n",
       "    .dataframe tbody tr th:only-of-type {\n",
       "        vertical-align: middle;\n",
       "    }\n",
       "\n",
       "    .dataframe tbody tr th {\n",
       "        vertical-align: top;\n",
       "    }\n",
       "\n",
       "    .dataframe thead th {\n",
       "        text-align: right;\n",
       "    }\n",
       "</style>\n",
       "<table border=\"1\" class=\"dataframe\">\n",
       "  <thead>\n",
       "    <tr style=\"text-align: right;\">\n",
       "      <th></th>\n",
       "      <th>children_number</th>\n",
       "      <th>parents</th>\n",
       "      <th>debtors</th>\n",
       "      <th>debtors_share</th>\n",
       "    </tr>\n",
       "  </thead>\n",
       "  <tbody>\n",
       "    <tr>\n",
       "      <th>0</th>\n",
       "      <td>0</td>\n",
       "      <td>14090</td>\n",
       "      <td>1063</td>\n",
       "      <td>7.544358</td>\n",
       "    </tr>\n",
       "    <tr>\n",
       "      <th>1</th>\n",
       "      <td>1</td>\n",
       "      <td>4808</td>\n",
       "      <td>444</td>\n",
       "      <td>9.234609</td>\n",
       "    </tr>\n",
       "    <tr>\n",
       "      <th>2</th>\n",
       "      <td>2</td>\n",
       "      <td>2052</td>\n",
       "      <td>194</td>\n",
       "      <td>9.454191</td>\n",
       "    </tr>\n",
       "    <tr>\n",
       "      <th>3</th>\n",
       "      <td>3</td>\n",
       "      <td>330</td>\n",
       "      <td>27</td>\n",
       "      <td>8.181818</td>\n",
       "    </tr>\n",
       "    <tr>\n",
       "      <th>4</th>\n",
       "      <td>4</td>\n",
       "      <td>41</td>\n",
       "      <td>4</td>\n",
       "      <td>9.756098</td>\n",
       "    </tr>\n",
       "    <tr>\n",
       "      <th>5</th>\n",
       "      <td>5</td>\n",
       "      <td>9</td>\n",
       "      <td>0</td>\n",
       "      <td>0.000000</td>\n",
       "    </tr>\n",
       "  </tbody>\n",
       "</table>\n",
       "</div>"
      ],
      "text/plain": [
       "   children_number  parents  debtors  debtors_share\n",
       "0                0    14090     1063       7.544358\n",
       "1                1     4808      444       9.234609\n",
       "2                2     2052      194       9.454191\n",
       "3                3      330       27       8.181818\n",
       "4                4       41        4       9.756098\n",
       "5                5        9        0       0.000000"
      ]
     },
     "execution_count": 26,
     "metadata": {},
     "output_type": "execute_result"
    }
   ],
   "source": [
    "# Выявим долю должников в каждой когорте, предварительно агрегировав общее количество родителей и должников.\n",
    "# Поскольку id заемщика не представлен, здесь и далее примем за заемщика его доход.\n",
    "df_parents = data.groupby(['children']).agg({'total_income':['count'], 'debt':['sum']})\n",
    "df_parents['debtors_share'] = (df_parents['debt']['sum'] / df_parents['total_income']['count']) * 100\n",
    "\n",
    "\n",
    "# Сброс мультииндекса столбцов, объединяя уровни индекса\n",
    "df_parents.columns = ['_'.join(col).strip() for col in df_parents.columns.values]\n",
    "\n",
    "df_parents = df_parents.reset_index()\n",
    "df_parents = df_parents.rename(columns={'children':'children_number', 'total_income_count':'parents', 'debt_sum':'debtors', 'debtors_share_':'debtors_share'})\n",
    "df_parents"
   ]
  },
  {
   "cell_type": "code",
   "execution_count": 27,
   "id": "914d60d1",
   "metadata": {
    "hideCode": false,
    "hidePrompt": false
   },
   "outputs": [
    {
     "data": {
      "text/plain": [
       "Text(0.5, 0, 'Количество детей')"
      ]
     },
     "execution_count": 27,
     "metadata": {},
     "output_type": "execute_result"
    },
    {
     "data": {
      "image/png": "[encoded data removed]",
      "text/plain": [
       "<Figure size 1000x600 with 1 Axes>"
      ]
     },
     "metadata": {},
     "output_type": "display_data"
    }
   ],
   "source": [
    "# Создадим визуализацию выявленной статистики.\n",
    "plt.figure(figsize=(10, 6))\n",
    "plt.bar(df_parents['children_number'], df_parents['debtors_share'])\n",
    "\n",
    "plt.title('Доля должников среди клиентов с детьми', fontsize=18)\n",
    "plt.ylabel('% должников', fontsize=18)\n",
    "plt.xlabel('Количество детей', fontsize=18)"
   ]
  },
  {
   "cell_type": "markdown",
   "id": "8c7cf62a",
   "metadata": {
    "hideCode": false,
    "hidePrompt": false
   },
   "source": [
    "Как можно наблюдать из таблицы выше, наблюдается слабая зависимость наличия детей на возврат кредита в срок. Влияние количества детей на возврат кредитных обязательств не наблюдается. Так, мы наблюдаем небольшой скачок в доли должников без детей и с детьми. Среди должников с детьми их доля от общего числа в когорте практически не изменяется, либо изменяется в пределах 1-1,5%. Изменения в доли должников варьируются в пределах 2%, однако изменение доли когорты без детей и с 1 ребенком подкрепляется большей выборкой, пока изменения в когортах с разным количеством детей имеет малую выборку для учета в кредитном скоринге.\n",
    "Рассмотрим дополнительные критерии. Учитывая специфику института семьи, следует принять во внимание и пол заемщиков. Выведем общее число заемщиков и должников для обоих полов с выявлением доли последних от общего числа."
   ]
  },
  {
   "cell_type": "code",
   "execution_count": 28,
   "id": "7fcff25e",
   "metadata": {
    "deletable": false,
    "hideCode": false,
    "hidePrompt": false,
    "id": "7fcff25e"
   },
   "outputs": [
    {
     "data": {
      "text/html": [
       "<div>\n",
       "<style scoped>\n",
       "    .dataframe tbody tr th:only-of-type {\n",
       "        vertical-align: middle;\n",
       "    }\n",
       "\n",
       "    .dataframe tbody tr th {\n",
       "        vertical-align: top;\n",
       "    }\n",
       "\n",
       "    .dataframe thead th {\n",
       "        text-align: right;\n",
       "    }\n",
       "</style>\n",
       "<table border=\"1\" class=\"dataframe\">\n",
       "  <thead>\n",
       "    <tr style=\"text-align: right;\">\n",
       "      <th></th>\n",
       "      <th>gender</th>\n",
       "      <th>clients</th>\n",
       "      <th>debtors</th>\n",
       "      <th>debtors_share</th>\n",
       "    </tr>\n",
       "  </thead>\n",
       "  <tbody>\n",
       "    <tr>\n",
       "      <th>0</th>\n",
       "      <td>F</td>\n",
       "      <td>14092</td>\n",
       "      <td>989</td>\n",
       "      <td>7.018166</td>\n",
       "    </tr>\n",
       "    <tr>\n",
       "      <th>1</th>\n",
       "      <td>M</td>\n",
       "      <td>7238</td>\n",
       "      <td>743</td>\n",
       "      <td>10.265267</td>\n",
       "    </tr>\n",
       "  </tbody>\n",
       "</table>\n",
       "</div>"
      ],
      "text/plain": [
       "  gender  clients  debtors  debtors_share\n",
       "0      F    14092      989       7.018166\n",
       "1      M     7238      743      10.265267"
      ]
     },
     "execution_count": 28,
     "metadata": {},
     "output_type": "execute_result"
    }
   ],
   "source": [
    "# Выявим долю должников для обоих полов, предварительно агрегировав общее количество заемщиков и должников. \n",
    "df_gender = data.groupby(['gender']).agg({'total_income':['count'], 'debt':['sum']})\n",
    "df_gender['debtors_share'] = (df_gender['debt']['sum'] / df_gender['total_income']['count']) * 100\n",
    "df_gender.columns = ['_'.join(col).strip() for col in df_gender.columns.values]\n",
    "df_gender = df_gender.reset_index()\n",
    "df_gender = df_gender.rename(columns={'total_income_count':'clients', 'debt_sum':'debtors', 'debtors_share_':'debtors_share'})\n",
    "df_gender"
   ]
  },
  {
   "cell_type": "code",
   "execution_count": 29,
   "id": "33f27e6c",
   "metadata": {
    "hideCode": false,
    "hidePrompt": false
   },
   "outputs": [
    {
     "data": {
      "text/plain": [
       "Text(0.5, 0, 'Пол')"
      ]
     },
     "execution_count": 29,
     "metadata": {},
     "output_type": "execute_result"
    },
    {
     "data": {
      "image/png": "[encoded data removed]",
      "text/plain": [
       "<Figure size 1000x600 with 1 Axes>"
      ]
     },
     "metadata": {},
     "output_type": "display_data"
    }
   ],
   "source": [
    "# Создадим визуализацию выявленной статистики.\n",
    "plt.figure(figsize=(10, 6))\n",
    "plt.bar(df_gender['gender'], df_gender['debtors_share'])\n",
    "\n",
    "plt.title('Доля должников среди женщин и мужчин', fontsize=18)\n",
    "plt.ylabel('% должников', fontsize=18)\n",
    "plt.xlabel('Пол', fontsize=18)"
   ]
  },
  {
   "cell_type": "markdown",
   "id": "dab27219",
   "metadata": {
    "hideCode": false,
    "hidePrompt": false
   },
   "source": [
    "Доля должников среди мужчин выше, чем тот же показатель у женщин, хотя случаев кредитования у женщин почти в 2 раза больше. Если процент должников у мужчин вполне объясняется реалиями социальных норм, то высокая доля кредитования у женщин вызывает вопросы о причинах такой диспропорции. Объяснение тому может лежать в гражданском состоянии заемщиков.\n",
    "Обощим промежуточные результаты."
   ]
  },
  {
   "cell_type": "code",
   "execution_count": 30,
   "id": "7d7e37d7",
   "metadata": {
    "hideCode": false,
    "hidePrompt": false
   },
   "outputs": [
    {
     "data": {
      "text/html": [
       "<div>\n",
       "<style scoped>\n",
       "    .dataframe tbody tr th:only-of-type {\n",
       "        vertical-align: middle;\n",
       "    }\n",
       "\n",
       "    .dataframe tbody tr th {\n",
       "        vertical-align: top;\n",
       "    }\n",
       "\n",
       "    .dataframe thead tr th {\n",
       "        text-align: left;\n",
       "    }\n",
       "\n",
       "    .dataframe thead tr:last-of-type th {\n",
       "        text-align: right;\n",
       "    }\n",
       "</style>\n",
       "<table border=\"1\" class=\"dataframe\">\n",
       "  <thead>\n",
       "    <tr>\n",
       "      <th></th>\n",
       "      <th></th>\n",
       "      <th>total_income</th>\n",
       "      <th>debt</th>\n",
       "      <th>debtors_share</th>\n",
       "    </tr>\n",
       "    <tr>\n",
       "      <th></th>\n",
       "      <th></th>\n",
       "      <th>count</th>\n",
       "      <th>sum</th>\n",
       "      <th></th>\n",
       "    </tr>\n",
       "    <tr>\n",
       "      <th>children</th>\n",
       "      <th>gender</th>\n",
       "      <th></th>\n",
       "      <th></th>\n",
       "      <th></th>\n",
       "    </tr>\n",
       "  </thead>\n",
       "  <tbody>\n",
       "    <tr>\n",
       "      <th rowspan=\"2\" valign=\"top\">0</th>\n",
       "      <th>F</th>\n",
       "      <td>9520</td>\n",
       "      <td>592</td>\n",
       "      <td>6.218487</td>\n",
       "    </tr>\n",
       "    <tr>\n",
       "      <th>M</th>\n",
       "      <td>4570</td>\n",
       "      <td>471</td>\n",
       "      <td>10.306346</td>\n",
       "    </tr>\n",
       "    <tr>\n",
       "      <th rowspan=\"2\" valign=\"top\">1</th>\n",
       "      <th>F</th>\n",
       "      <td>3085</td>\n",
       "      <td>245</td>\n",
       "      <td>7.941653</td>\n",
       "    </tr>\n",
       "    <tr>\n",
       "      <th>M</th>\n",
       "      <td>1723</td>\n",
       "      <td>199</td>\n",
       "      <td>11.549623</td>\n",
       "    </tr>\n",
       "    <tr>\n",
       "      <th rowspan=\"2\" valign=\"top\">2</th>\n",
       "      <th>F</th>\n",
       "      <td>1256</td>\n",
       "      <td>134</td>\n",
       "      <td>10.668790</td>\n",
       "    </tr>\n",
       "    <tr>\n",
       "      <th>M</th>\n",
       "      <td>796</td>\n",
       "      <td>60</td>\n",
       "      <td>7.537688</td>\n",
       "    </tr>\n",
       "    <tr>\n",
       "      <th rowspan=\"2\" valign=\"top\">3</th>\n",
       "      <th>F</th>\n",
       "      <td>196</td>\n",
       "      <td>17</td>\n",
       "      <td>8.673469</td>\n",
       "    </tr>\n",
       "    <tr>\n",
       "      <th>M</th>\n",
       "      <td>134</td>\n",
       "      <td>10</td>\n",
       "      <td>7.462687</td>\n",
       "    </tr>\n",
       "    <tr>\n",
       "      <th rowspan=\"2\" valign=\"top\">4</th>\n",
       "      <th>F</th>\n",
       "      <td>28</td>\n",
       "      <td>1</td>\n",
       "      <td>3.571429</td>\n",
       "    </tr>\n",
       "    <tr>\n",
       "      <th>M</th>\n",
       "      <td>13</td>\n",
       "      <td>3</td>\n",
       "      <td>23.076923</td>\n",
       "    </tr>\n",
       "    <tr>\n",
       "      <th rowspan=\"2\" valign=\"top\">5</th>\n",
       "      <th>F</th>\n",
       "      <td>7</td>\n",
       "      <td>0</td>\n",
       "      <td>0.000000</td>\n",
       "    </tr>\n",
       "    <tr>\n",
       "      <th>M</th>\n",
       "      <td>2</td>\n",
       "      <td>0</td>\n",
       "      <td>0.000000</td>\n",
       "    </tr>\n",
       "  </tbody>\n",
       "</table>\n",
       "</div>"
      ],
      "text/plain": [
       "                total_income debt debtors_share\n",
       "                       count  sum              \n",
       "children gender                                \n",
       "0        F              9520  592      6.218487\n",
       "         M              4570  471     10.306346\n",
       "1        F              3085  245      7.941653\n",
       "         M              1723  199     11.549623\n",
       "2        F              1256  134     10.668790\n",
       "         M               796   60      7.537688\n",
       "3        F               196   17      8.673469\n",
       "         M               134   10      7.462687\n",
       "4        F                28    1      3.571429\n",
       "         M                13    3     23.076923\n",
       "5        F                 7    0      0.000000\n",
       "         M                 2    0      0.000000"
      ]
     },
     "execution_count": 30,
     "metadata": {},
     "output_type": "execute_result"
    }
   ],
   "source": [
    "# Выведем общую долю должников по количеству детей и половой принадлежности.\n",
    "df_gender_parents1 = data.groupby(['children', 'gender']).agg({'total_income':['count'], 'debt':['sum']})\n",
    "df_gender_parents1['debtors_share'] = (df_gender_parents1['debt']['sum'] / df_gender_parents1['total_income']['count']) * 100\n",
    "\n",
    "df_gender_parents1"
   ]
  },
  {
   "cell_type": "code",
   "execution_count": 31,
   "id": "97d53906",
   "metadata": {
    "hideCode": false,
    "hidePrompt": false
   },
   "outputs": [
    {
     "data": {
      "text/html": [
       "<div>\n",
       "<style scoped>\n",
       "    .dataframe tbody tr th:only-of-type {\n",
       "        vertical-align: middle;\n",
       "    }\n",
       "\n",
       "    .dataframe tbody tr th {\n",
       "        vertical-align: top;\n",
       "    }\n",
       "\n",
       "    .dataframe thead th {\n",
       "        text-align: right;\n",
       "    }\n",
       "</style>\n",
       "<table border=\"1\" class=\"dataframe\">\n",
       "  <thead>\n",
       "    <tr style=\"text-align: right;\">\n",
       "      <th></th>\n",
       "      <th>children</th>\n",
       "      <th>gender</th>\n",
       "      <th>clients</th>\n",
       "      <th>debtors</th>\n",
       "      <th>debtors_share</th>\n",
       "    </tr>\n",
       "  </thead>\n",
       "  <tbody>\n",
       "    <tr>\n",
       "      <th>0</th>\n",
       "      <td>0</td>\n",
       "      <td>F</td>\n",
       "      <td>9520</td>\n",
       "      <td>592</td>\n",
       "      <td>6.218487</td>\n",
       "    </tr>\n",
       "    <tr>\n",
       "      <th>1</th>\n",
       "      <td>0</td>\n",
       "      <td>M</td>\n",
       "      <td>4570</td>\n",
       "      <td>471</td>\n",
       "      <td>10.306346</td>\n",
       "    </tr>\n",
       "    <tr>\n",
       "      <th>2</th>\n",
       "      <td>1</td>\n",
       "      <td>F</td>\n",
       "      <td>3085</td>\n",
       "      <td>245</td>\n",
       "      <td>7.941653</td>\n",
       "    </tr>\n",
       "    <tr>\n",
       "      <th>3</th>\n",
       "      <td>1</td>\n",
       "      <td>M</td>\n",
       "      <td>1723</td>\n",
       "      <td>199</td>\n",
       "      <td>11.549623</td>\n",
       "    </tr>\n",
       "    <tr>\n",
       "      <th>4</th>\n",
       "      <td>2</td>\n",
       "      <td>F</td>\n",
       "      <td>1256</td>\n",
       "      <td>134</td>\n",
       "      <td>10.668790</td>\n",
       "    </tr>\n",
       "    <tr>\n",
       "      <th>5</th>\n",
       "      <td>2</td>\n",
       "      <td>M</td>\n",
       "      <td>796</td>\n",
       "      <td>60</td>\n",
       "      <td>7.537688</td>\n",
       "    </tr>\n",
       "    <tr>\n",
       "      <th>6</th>\n",
       "      <td>3</td>\n",
       "      <td>F</td>\n",
       "      <td>196</td>\n",
       "      <td>17</td>\n",
       "      <td>8.673469</td>\n",
       "    </tr>\n",
       "    <tr>\n",
       "      <th>7</th>\n",
       "      <td>3</td>\n",
       "      <td>M</td>\n",
       "      <td>134</td>\n",
       "      <td>10</td>\n",
       "      <td>7.462687</td>\n",
       "    </tr>\n",
       "    <tr>\n",
       "      <th>8</th>\n",
       "      <td>4</td>\n",
       "      <td>F</td>\n",
       "      <td>28</td>\n",
       "      <td>1</td>\n",
       "      <td>3.571429</td>\n",
       "    </tr>\n",
       "    <tr>\n",
       "      <th>9</th>\n",
       "      <td>4</td>\n",
       "      <td>M</td>\n",
       "      <td>13</td>\n",
       "      <td>3</td>\n",
       "      <td>23.076923</td>\n",
       "    </tr>\n",
       "    <tr>\n",
       "      <th>10</th>\n",
       "      <td>5</td>\n",
       "      <td>F</td>\n",
       "      <td>7</td>\n",
       "      <td>0</td>\n",
       "      <td>0.000000</td>\n",
       "    </tr>\n",
       "    <tr>\n",
       "      <th>11</th>\n",
       "      <td>5</td>\n",
       "      <td>M</td>\n",
       "      <td>2</td>\n",
       "      <td>0</td>\n",
       "      <td>0.000000</td>\n",
       "    </tr>\n",
       "  </tbody>\n",
       "</table>\n",
       "</div>"
      ],
      "text/plain": [
       "    children gender  clients  debtors  debtors_share\n",
       "0          0      F     9520      592       6.218487\n",
       "1          0      M     4570      471      10.306346\n",
       "2          1      F     3085      245       7.941653\n",
       "3          1      M     1723      199      11.549623\n",
       "4          2      F     1256      134      10.668790\n",
       "5          2      M      796       60       7.537688\n",
       "6          3      F      196       17       8.673469\n",
       "7          3      M      134       10       7.462687\n",
       "8          4      F       28        1       3.571429\n",
       "9          4      M       13        3      23.076923\n",
       "10         5      F        7        0       0.000000\n",
       "11         5      M        2        0       0.000000"
      ]
     },
     "execution_count": 31,
     "metadata": {},
     "output_type": "execute_result"
    }
   ],
   "source": [
    "# Выведем общую долю должников по количеству детей и половой принадлежности.\n",
    "df_gender_parents = data.groupby(['children', 'gender'], as_index=False).agg({'total_income':['count'], 'debt':['sum']})\n",
    "df_gender_parents['debtors_share'] = (df_gender_parents['debt']['sum'] / df_gender_parents['total_income']['count']) * 100\n",
    "df_gender_parents.columns = ['_'.join(col).strip() for col in df_gender_parents.columns.values]\n",
    "df_gender_parents = df_gender_parents.rename(columns={\n",
    "    'children_':'children',\n",
    "    'gender_':'gender',\n",
    "    'total_income_count':'clients',\n",
    "    'debt_sum':'debtors',\n",
    "    'debtors_share_':'debtors_share'})\n",
    "df_gender_parents"
   ]
  },
  {
   "cell_type": "code",
   "execution_count": 32,
   "id": "c412b5f5",
   "metadata": {
    "hideCode": false,
    "hidePrompt": false
   },
   "outputs": [
    {
     "data": {
      "image/png": "[encoded data removed]",
      "text/plain": [
       "<Figure size 1000x600 with 1 Axes>"
      ]
     },
     "metadata": {},
     "output_type": "display_data"
    }
   ],
   "source": [
    "# Создадим визуализацию выявленной статистики.\n",
    "data_gender_parents = df_gender_parents.pivot_table(index=['children','gender'], values='debtors_share')\n",
    "\n",
    "data_gender_parents = data_gender_parents.reset_index()\n",
    "\n",
    "plt.figure(figsize=(10, 6))\n",
    "sns.barplot(x='children', y='debtors_share', hue='gender', data=data_gender_parents)\n",
    "plt.xlabel('Количество детей', fontsize=18)\n",
    "plt.ylabel('Доля задолженностей', fontsize=18)\n",
    "plt.title('Доля задолженностей по категориям', fontsize=18)\n",
    "plt.show()"
   ]
  },
  {
   "cell_type": "markdown",
   "id": "2eb9088e",
   "metadata": {
    "deletable": false,
    "hideCode": false,
    "hidePrompt": false,
    "id": "2eb9088e"
   },
   "source": [
    "**Вывод:\n",
    "Наблюдается слабая зависимость наличия детей на возврат кредита в срок. Влияние количества детей на возврат кредитных обязательств не наблюдается. У мужчин больше вероятность просрочки займа по сравнению с женщинами, что справедливо безотносительно наличия детей. При учете  половой принадлежности и количества детей можно наблюдать меньший процент просрочек у женщин без детей и с детьми, пока у мужчин этот показатель стандартно выше, а при наличии нескольких детей возврат долга многодетными отцами соразмерен предыдущим когортам.** "
   ]
  },
  {
   "cell_type": "markdown",
   "id": "74c9b3a7",
   "metadata": {
    "deletable": false,
    "editable": false,
    "hideCode": false,
    "hidePrompt": false,
    "id": "74c9b3a7"
   },
   "source": [
    "#### 3.2 Есть ли зависимость между семейным положением и возвратом кредита в срок?"
   ]
  },
  {
   "cell_type": "markdown",
   "id": "eab09fdc",
   "metadata": {
    "hideCode": false,
    "hidePrompt": false
   },
   "source": [
    "**Для выявления зависимости между семейным положением и возвратом кредита в срок нам потребуется доля должников для каждой когорты от общего числа заемщиков в когорте. Когорты в данном случае формируются по категориальным значениям.**"
   ]
  },
  {
   "cell_type": "code",
   "execution_count": 33,
   "id": "8098ab3b",
   "metadata": {
    "deletable": false,
    "hideCode": false,
    "hidePrompt": false,
    "id": "8098ab3b"
   },
   "outputs": [
    {
     "data": {
      "text/html": [
       "<div>\n",
       "<style scoped>\n",
       "    .dataframe tbody tr th:only-of-type {\n",
       "        vertical-align: middle;\n",
       "    }\n",
       "\n",
       "    .dataframe tbody tr th {\n",
       "        vertical-align: top;\n",
       "    }\n",
       "\n",
       "    .dataframe thead th {\n",
       "        text-align: right;\n",
       "    }\n",
       "</style>\n",
       "<table border=\"1\" class=\"dataframe\">\n",
       "  <thead>\n",
       "    <tr style=\"text-align: right;\">\n",
       "      <th></th>\n",
       "      <th>family_status</th>\n",
       "      <th>statuses</th>\n",
       "      <th>debtors</th>\n",
       "      <th>debtors_share</th>\n",
       "    </tr>\n",
       "  </thead>\n",
       "  <tbody>\n",
       "    <tr>\n",
       "      <th>0</th>\n",
       "      <td>Не женат / не замужем</td>\n",
       "      <td>2796</td>\n",
       "      <td>273</td>\n",
       "      <td>9.763948</td>\n",
       "    </tr>\n",
       "    <tr>\n",
       "      <th>1</th>\n",
       "      <td>в разводе</td>\n",
       "      <td>1189</td>\n",
       "      <td>84</td>\n",
       "      <td>7.064760</td>\n",
       "    </tr>\n",
       "    <tr>\n",
       "      <th>2</th>\n",
       "      <td>вдовец / вдова</td>\n",
       "      <td>951</td>\n",
       "      <td>63</td>\n",
       "      <td>6.624606</td>\n",
       "    </tr>\n",
       "    <tr>\n",
       "      <th>3</th>\n",
       "      <td>гражданский брак</td>\n",
       "      <td>4133</td>\n",
       "      <td>385</td>\n",
       "      <td>9.315267</td>\n",
       "    </tr>\n",
       "    <tr>\n",
       "      <th>4</th>\n",
       "      <td>женат / замужем</td>\n",
       "      <td>12261</td>\n",
       "      <td>927</td>\n",
       "      <td>7.560558</td>\n",
       "    </tr>\n",
       "  </tbody>\n",
       "</table>\n",
       "</div>"
      ],
      "text/plain": [
       "           family_status  statuses  debtors  debtors_share\n",
       "0  Не женат / не замужем      2796      273       9.763948\n",
       "1              в разводе      1189       84       7.064760\n",
       "2         вдовец / вдова       951       63       6.624606\n",
       "3       гражданский брак      4133      385       9.315267\n",
       "4        женат / замужем     12261      927       7.560558"
      ]
     },
     "execution_count": 33,
     "metadata": {},
     "output_type": "execute_result"
    }
   ],
   "source": [
    "# Выявим долю должников в каждой когорте, предварительно агрегировав общее количество родителей и должников.\n",
    "# Поскольку id заемщика не представлен, здесь и далее примем за заемщика его доход.\n",
    "df_age = data.groupby(['family_status']).agg({'total_income':['count'], 'debt':['sum']})\n",
    "df_age['debtors_share'] = (df_age['debt']['sum'] / df_age['total_income']['count']) * 100\n",
    "\n",
    "\n",
    "# Сброс мультииндекса столбцов, объединяя уровни индекса\n",
    "df_age.columns = ['_'.join(col).strip() for col in df_age.columns.values]\n",
    "\n",
    "df_age = df_age.reset_index()\n",
    "df_age = df_age.rename(columns={'family_status':'family_status', 'total_income_count':'statuses', 'debt_sum':'debtors', 'debtors_share_':'debtors_share'})\n",
    "df_age\n"
   ]
  },
  {
   "cell_type": "code",
   "execution_count": 34,
   "id": "4bb4e607",
   "metadata": {
    "hideCode": false,
    "hidePrompt": false
   },
   "outputs": [
    {
     "data": {
      "text/plain": [
       "Text(0.5, 0, 'Гражданское состояние')"
      ]
     },
     "execution_count": 34,
     "metadata": {},
     "output_type": "execute_result"
    },
    {
     "data": {
      "image/png": "[encoded data removed]",
      "text/plain": [
       "<Figure size 1000x600 with 1 Axes>"
      ]
     },
     "metadata": {},
     "output_type": "display_data"
    }
   ],
   "source": [
    "# Создадим визуализацию выявленной статистики.\n",
    "plt.figure(figsize=(10, 6))\n",
    "plt.bar(df_age['family_status'], df_age['debtors_share'])\n",
    "\n",
    "plt.title('Доля должников по гражданскому состоянию', fontsize=18)\n",
    "plt.ylabel('% должников', fontsize=18)\n",
    "plt.xlabel('Гражданское состояние', fontsize=18)"
   ]
  },
  {
   "cell_type": "markdown",
   "id": "42fd8383",
   "metadata": {
    "hideCode": false,
    "hidePrompt": false
   },
   "source": [
    "Среди клиентов, разделенных по гражданскому состоянию, наиболее высокий процент должников среди тех, кто не состоит в официально оформленном браке, в то время как клиенты, состоящие в действующем или недействующем официальном браке, показывают меньший процент задолженности.\n",
    "\n",
    "Рассмотрим выявленную статистику с учетом пола клиентов."
   ]
  },
  {
   "cell_type": "code",
   "execution_count": 35,
   "id": "d1f47d10",
   "metadata": {
    "hideCode": false,
    "hidePrompt": false
   },
   "outputs": [
    {
     "data": {
      "text/html": [
       "<div>\n",
       "<style scoped>\n",
       "    .dataframe tbody tr th:only-of-type {\n",
       "        vertical-align: middle;\n",
       "    }\n",
       "\n",
       "    .dataframe tbody tr th {\n",
       "        vertical-align: top;\n",
       "    }\n",
       "\n",
       "    .dataframe thead th {\n",
       "        text-align: right;\n",
       "    }\n",
       "</style>\n",
       "<table border=\"1\" class=\"dataframe\">\n",
       "  <thead>\n",
       "    <tr style=\"text-align: right;\">\n",
       "      <th></th>\n",
       "      <th>gender</th>\n",
       "      <th>family_status</th>\n",
       "      <th>clients</th>\n",
       "      <th>debtors</th>\n",
       "      <th>debtors_share</th>\n",
       "    </tr>\n",
       "  </thead>\n",
       "  <tbody>\n",
       "    <tr>\n",
       "      <th>0</th>\n",
       "      <td>F</td>\n",
       "      <td>Не женат / не замужем</td>\n",
       "      <td>1723</td>\n",
       "      <td>118</td>\n",
       "      <td>6.848520</td>\n",
       "    </tr>\n",
       "    <tr>\n",
       "      <th>1</th>\n",
       "      <td>F</td>\n",
       "      <td>в разводе</td>\n",
       "      <td>931</td>\n",
       "      <td>61</td>\n",
       "      <td>6.552095</td>\n",
       "    </tr>\n",
       "    <tr>\n",
       "      <th>2</th>\n",
       "      <td>F</td>\n",
       "      <td>вдовец / вдова</td>\n",
       "      <td>896</td>\n",
       "      <td>52</td>\n",
       "      <td>5.803571</td>\n",
       "    </tr>\n",
       "    <tr>\n",
       "      <th>3</th>\n",
       "      <td>F</td>\n",
       "      <td>гражданский брак</td>\n",
       "      <td>2832</td>\n",
       "      <td>232</td>\n",
       "      <td>8.192090</td>\n",
       "    </tr>\n",
       "    <tr>\n",
       "      <th>4</th>\n",
       "      <td>F</td>\n",
       "      <td>женат / замужем</td>\n",
       "      <td>7710</td>\n",
       "      <td>526</td>\n",
       "      <td>6.822309</td>\n",
       "    </tr>\n",
       "    <tr>\n",
       "      <th>5</th>\n",
       "      <td>M</td>\n",
       "      <td>Не женат / не замужем</td>\n",
       "      <td>1073</td>\n",
       "      <td>155</td>\n",
       "      <td>14.445480</td>\n",
       "    </tr>\n",
       "    <tr>\n",
       "      <th>6</th>\n",
       "      <td>M</td>\n",
       "      <td>в разводе</td>\n",
       "      <td>258</td>\n",
       "      <td>23</td>\n",
       "      <td>8.914729</td>\n",
       "    </tr>\n",
       "    <tr>\n",
       "      <th>7</th>\n",
       "      <td>M</td>\n",
       "      <td>вдовец / вдова</td>\n",
       "      <td>55</td>\n",
       "      <td>11</td>\n",
       "      <td>20.000000</td>\n",
       "    </tr>\n",
       "    <tr>\n",
       "      <th>8</th>\n",
       "      <td>M</td>\n",
       "      <td>гражданский брак</td>\n",
       "      <td>1301</td>\n",
       "      <td>153</td>\n",
       "      <td>11.760184</td>\n",
       "    </tr>\n",
       "    <tr>\n",
       "      <th>9</th>\n",
       "      <td>M</td>\n",
       "      <td>женат / замужем</td>\n",
       "      <td>4551</td>\n",
       "      <td>401</td>\n",
       "      <td>8.811250</td>\n",
       "    </tr>\n",
       "  </tbody>\n",
       "</table>\n",
       "</div>"
      ],
      "text/plain": [
       "  gender          family_status  clients  debtors  debtors_share\n",
       "0      F  Не женат / не замужем     1723      118       6.848520\n",
       "1      F              в разводе      931       61       6.552095\n",
       "2      F         вдовец / вдова      896       52       5.803571\n",
       "3      F       гражданский брак     2832      232       8.192090\n",
       "4      F        женат / замужем     7710      526       6.822309\n",
       "5      M  Не женат / не замужем     1073      155      14.445480\n",
       "6      M              в разводе      258       23       8.914729\n",
       "7      M         вдовец / вдова       55       11      20.000000\n",
       "8      M       гражданский брак     1301      153      11.760184\n",
       "9      M        женат / замужем     4551      401       8.811250"
      ]
     },
     "execution_count": 35,
     "metadata": {},
     "output_type": "execute_result"
    }
   ],
   "source": [
    "# Выявим процент должников в соответствии с полом и гражданским статусом клиентов.\n",
    "df_age_status = data.groupby(['gender', 'family_status'], as_index=False).agg({'total_income':['count'], 'debt':['sum']})\n",
    "df_age_status['debtors_share'] = (df_age_status['debt']['sum'] / df_age_status['total_income']['count']) * 100\n",
    "\n",
    "# Сброс мультииндекса столбцов, объединяя уровни индекса\n",
    "df_age_status.columns = ['_'.join(col).strip() for col in df_age_status.columns.values]\n",
    "df_age_status = df_age_status.rename(columns={'gender_':'gender', 'family_status_':'family_status', 'total_income_count':'clients', 'debt_sum':'debtors', 'debtors_share_':'debtors_share'})\n",
    "\n",
    "df_age_status"
   ]
  },
  {
   "cell_type": "code",
   "execution_count": 36,
   "id": "d2fdab35",
   "metadata": {
    "hideCode": false,
    "hidePrompt": false
   },
   "outputs": [
    {
     "data": {
      "image/png": "[encoded data removed]",
      "text/plain": [
       "<Figure size 1000x600 with 1 Axes>"
      ]
     },
     "metadata": {},
     "output_type": "display_data"
    }
   ],
   "source": [
    "# Создадим визуализацию выявленной статистики. \n",
    "data_pivot = df_age_status.pivot_table(index=['gender','family_status'], values='debtors_share')\n",
    "\n",
    "data_pivot_df = data_pivot.reset_index()\n",
    "\n",
    "plt.figure(figsize=(10, 6))\n",
    "sns.barplot(x='gender', y='debtors_share', hue='family_status', data=data_pivot_df)\n",
    "plt.xlabel('Пол', fontsize=18)\n",
    "plt.ylabel('Доля задолженностей', fontsize=18)\n",
    "plt.title('Доля задолженностей по категориям', fontsize=18)\n",
    "plt.show()"
   ]
  },
  {
   "cell_type": "markdown",
   "id": "c389ca63",
   "metadata": {
    "deletable": false,
    "hideCode": false,
    "hidePrompt": false,
    "id": "c389ca63"
   },
   "source": [
    "**Вывод:\n",
    "Сильной зависимости между семейным положением и возвратом кредита в срок в генеральной совокупности не наблюдается, но в сегменте выборки мужчин можно наблюдать более высокий процент должников среди холостых и вдовцов (хотя последняя категория и имеет слабую выборку). Также стоит отметить тенденцию к кластеризации по стабильности статуса: официально зарегистрированные гражданские состояния имеют меньший процент должников по сравнению с неофициальными. Исходя из представленных выше данных при кредитном скоринге следует учитывать наличие официально зарегистрированного брака в качестве положительного критерия (в особенности среди женского населения). Гражданский брак учитывать сложнее, поэтому в качестве критерия для скоринга добавлять его не следует.** "
   ]
  },
  {
   "cell_type": "markdown",
   "id": "9529de68",
   "metadata": {
    "deletable": false,
    "editable": false,
    "hideCode": false,
    "hidePrompt": false,
    "id": "9529de68"
   },
   "source": [
    "#### 3.3 Есть ли зависимость между уровнем дохода и возвратом кредита в срок?"
   ]
  },
  {
   "cell_type": "markdown",
   "id": "aca938d3",
   "metadata": {
    "hideCode": false,
    "hidePrompt": false
   },
   "source": [
    "**Для выявления зависимости между уровнем дохода и возвратом кредита в срок нам потребуется доля должников для каждой когорты от общего числа заемщиков в когорте. Когорты в данном случае формируются по категориям, представляющим диапазоны дохода.**"
   ]
  },
  {
   "cell_type": "code",
   "execution_count": 37,
   "id": "03c8a310",
   "metadata": {
    "hideCode": false,
    "hidePrompt": false
   },
   "outputs": [
    {
     "data": {
      "text/html": [
       "<div>\n",
       "<style scoped>\n",
       "    .dataframe tbody tr th:only-of-type {\n",
       "        vertical-align: middle;\n",
       "    }\n",
       "\n",
       "    .dataframe tbody tr th {\n",
       "        vertical-align: top;\n",
       "    }\n",
       "\n",
       "    .dataframe thead th {\n",
       "        text-align: right;\n",
       "    }\n",
       "</style>\n",
       "<table border=\"1\" class=\"dataframe\">\n",
       "  <thead>\n",
       "    <tr style=\"text-align: right;\">\n",
       "      <th></th>\n",
       "      <th>clients</th>\n",
       "      <th>debtors</th>\n",
       "      <th>debtors_share</th>\n",
       "    </tr>\n",
       "    <tr>\n",
       "      <th>total_income_category</th>\n",
       "      <th></th>\n",
       "      <th></th>\n",
       "      <th></th>\n",
       "    </tr>\n",
       "  </thead>\n",
       "  <tbody>\n",
       "    <tr>\n",
       "      <th>A</th>\n",
       "      <td>25</td>\n",
       "      <td>2</td>\n",
       "      <td>8.000000</td>\n",
       "    </tr>\n",
       "    <tr>\n",
       "      <th>B</th>\n",
       "      <td>5013</td>\n",
       "      <td>354</td>\n",
       "      <td>7.061640</td>\n",
       "    </tr>\n",
       "    <tr>\n",
       "      <th>C</th>\n",
       "      <td>15921</td>\n",
       "      <td>1353</td>\n",
       "      <td>8.498210</td>\n",
       "    </tr>\n",
       "    <tr>\n",
       "      <th>D</th>\n",
       "      <td>349</td>\n",
       "      <td>21</td>\n",
       "      <td>6.017192</td>\n",
       "    </tr>\n",
       "    <tr>\n",
       "      <th>E</th>\n",
       "      <td>22</td>\n",
       "      <td>2</td>\n",
       "      <td>9.090909</td>\n",
       "    </tr>\n",
       "  </tbody>\n",
       "</table>\n",
       "</div>"
      ],
      "text/plain": [
       "                       clients  debtors  debtors_share\n",
       "total_income_category                                 \n",
       "A                           25        2       8.000000\n",
       "B                         5013      354       7.061640\n",
       "C                        15921     1353       8.498210\n",
       "D                          349       21       6.017192\n",
       "E                           22        2       9.090909"
      ]
     },
     "execution_count": 37,
     "metadata": {},
     "output_type": "execute_result"
    }
   ],
   "source": [
    "# Выявим долю должников в каждой категории.\n",
    "# Поскольку id заемщика не представлен, здесь и далее примем за заемщика его доход.\n",
    "df_income = data.groupby(['total_income_category']).agg({'total_income':['count'], 'debt':['sum']})\n",
    "df_income['debtors_share'] = (df_income['debt']['sum'] / df_income['total_income']['count']) * 100\n",
    "\n",
    "\n",
    "# Сброс мультииндекса столбцов, объединяя уровни индекса\n",
    "df_income.columns = ['_'.join(col).strip() for col in df_income.columns.values]\n",
    "\n",
    "df_income = df_income.rename(columns={'total_income_count':'clients', 'debt_sum':'debtors', 'debtors_share_':'debtors_share'})\n",
    "df_income"
   ]
  },
  {
   "cell_type": "code",
   "execution_count": 38,
   "id": "83a73729",
   "metadata": {
    "hideCode": false,
    "hidePrompt": false
   },
   "outputs": [
    {
     "data": {
      "text/plain": [
       "Text(0.5, 0, 'Категория дохода')"
      ]
     },
     "execution_count": 38,
     "metadata": {},
     "output_type": "execute_result"
    },
    {
     "data": {
      "image/png": "[encoded data removed]",
      "text/plain": [
       "<Figure size 1000x600 with 1 Axes>"
      ]
     },
     "metadata": {},
     "output_type": "display_data"
    }
   ],
   "source": [
    "# Создадим визуализацию выявленной статистики.\n",
    "plt.figure(figsize=(10, 6))\n",
    "plt.bar(df_income.index, df_income['debtors_share'])\n",
    "\n",
    "plt.title('Доля должников по категории дохода', fontsize=18)\n",
    "plt.ylabel('% должников', fontsize=18)\n",
    "plt.xlabel('Категория дохода', fontsize=18)"
   ]
  },
  {
   "cell_type": "markdown",
   "id": "32b46d3a",
   "metadata": {
    "deletable": false,
    "hideCode": false,
    "hidePrompt": false,
    "id": "8787f44a"
   },
   "source": [
    "Сильной зависимости возврата кредита в срок от уровня дохода не наблюдается. Наиболее распространенная когорта \"C\" имеет наибольшую выборку, но вместе с тем и одну из самых высоких долей задолженности. Добавим категорию пола для возможного вяывления выдающихся значений."
   ]
  },
  {
   "cell_type": "code",
   "execution_count": 39,
   "id": "2eb78677",
   "metadata": {
    "hideCode": false,
    "hidePrompt": false
   },
   "outputs": [
    {
     "data": {
      "text/html": [
       "<div>\n",
       "<style scoped>\n",
       "    .dataframe tbody tr th:only-of-type {\n",
       "        vertical-align: middle;\n",
       "    }\n",
       "\n",
       "    .dataframe tbody tr th {\n",
       "        vertical-align: top;\n",
       "    }\n",
       "\n",
       "    .dataframe thead th {\n",
       "        text-align: right;\n",
       "    }\n",
       "</style>\n",
       "<table border=\"1\" class=\"dataframe\">\n",
       "  <thead>\n",
       "    <tr style=\"text-align: right;\">\n",
       "      <th></th>\n",
       "      <th></th>\n",
       "      <th>clients</th>\n",
       "      <th>debtors</th>\n",
       "      <th>debtors_share</th>\n",
       "    </tr>\n",
       "    <tr>\n",
       "      <th>gender</th>\n",
       "      <th>total_income_category</th>\n",
       "      <th></th>\n",
       "      <th></th>\n",
       "      <th></th>\n",
       "    </tr>\n",
       "  </thead>\n",
       "  <tbody>\n",
       "    <tr>\n",
       "      <th rowspan=\"5\" valign=\"top\">F</th>\n",
       "      <th>A</th>\n",
       "      <td>10</td>\n",
       "      <td>0</td>\n",
       "      <td>0.000000</td>\n",
       "    </tr>\n",
       "    <tr>\n",
       "      <th>B</th>\n",
       "      <td>2695</td>\n",
       "      <td>162</td>\n",
       "      <td>6.011132</td>\n",
       "    </tr>\n",
       "    <tr>\n",
       "      <th>C</th>\n",
       "      <td>11063</td>\n",
       "      <td>810</td>\n",
       "      <td>7.321703</td>\n",
       "    </tr>\n",
       "    <tr>\n",
       "      <th>D</th>\n",
       "      <td>308</td>\n",
       "      <td>15</td>\n",
       "      <td>4.870130</td>\n",
       "    </tr>\n",
       "    <tr>\n",
       "      <th>E</th>\n",
       "      <td>16</td>\n",
       "      <td>2</td>\n",
       "      <td>12.500000</td>\n",
       "    </tr>\n",
       "    <tr>\n",
       "      <th rowspan=\"5\" valign=\"top\">M</th>\n",
       "      <th>A</th>\n",
       "      <td>15</td>\n",
       "      <td>2</td>\n",
       "      <td>13.333333</td>\n",
       "    </tr>\n",
       "    <tr>\n",
       "      <th>B</th>\n",
       "      <td>2318</td>\n",
       "      <td>192</td>\n",
       "      <td>8.283003</td>\n",
       "    </tr>\n",
       "    <tr>\n",
       "      <th>C</th>\n",
       "      <td>4858</td>\n",
       "      <td>543</td>\n",
       "      <td>11.177439</td>\n",
       "    </tr>\n",
       "    <tr>\n",
       "      <th>D</th>\n",
       "      <td>41</td>\n",
       "      <td>6</td>\n",
       "      <td>14.634146</td>\n",
       "    </tr>\n",
       "    <tr>\n",
       "      <th>E</th>\n",
       "      <td>6</td>\n",
       "      <td>0</td>\n",
       "      <td>0.000000</td>\n",
       "    </tr>\n",
       "  </tbody>\n",
       "</table>\n",
       "</div>"
      ],
      "text/plain": [
       "                              clients  debtors  debtors_share\n",
       "gender total_income_category                                 \n",
       "F      A                           10        0       0.000000\n",
       "       B                         2695      162       6.011132\n",
       "       C                        11063      810       7.321703\n",
       "       D                          308       15       4.870130\n",
       "       E                           16        2      12.500000\n",
       "M      A                           15        2      13.333333\n",
       "       B                         2318      192       8.283003\n",
       "       C                         4858      543      11.177439\n",
       "       D                           41        6      14.634146\n",
       "       E                            6        0       0.000000"
      ]
     },
     "execution_count": 39,
     "metadata": {},
     "output_type": "execute_result"
    }
   ],
   "source": [
    "# Выявим долю должников в каждой категории с учетом возраста.\n",
    "df_income_gender = data.groupby(['gender', 'total_income_category']).agg({'total_income':['count'], 'debt':['sum']})\n",
    "df_income_gender['debtors_share'] = (df_income_gender['debt']['sum'] / df_income_gender['total_income']['count']) * 100\n",
    "\n",
    "\n",
    "# Сброс мультииндекса столбцов, объединяя уровни индекса\n",
    "df_income_gender.columns = ['_'.join(col).strip() for col in df_income_gender.columns.values]\n",
    "\n",
    "df_income_gender = df_income_gender.rename(columns={'total_income_count':'clients', 'debt_sum':'debtors', 'debtors_share_':'debtors_share'})\n",
    "df_income_gender"
   ]
  },
  {
   "cell_type": "code",
   "execution_count": 40,
   "id": "0e135ff8",
   "metadata": {
    "hideCode": false,
    "hidePrompt": false
   },
   "outputs": [
    {
     "data": {
      "image/png": "[encoded data removed]",
      "text/plain": [
       "<Figure size 1000x600 with 1 Axes>"
      ]
     },
     "metadata": {},
     "output_type": "display_data"
    }
   ],
   "source": [
    "# Создадим визуализацию выявленной статистики. \n",
    "df_income_gender = df_income_gender.reset_index()\n",
    "\n",
    "data_pivot_income_gender = df_income_gender.pivot_table(index=['gender','total_income_category'], values='debtors_share')\n",
    "\n",
    "data_pivot_income_gender = data_pivot_income_gender.reset_index()\n",
    "\n",
    "plt.figure(figsize=(10, 6))\n",
    "sns.barplot(x='gender', y='debtors_share', hue='total_income_category', data=data_pivot_income_gender)\n",
    "plt.xlabel('Пол', fontsize=18)\n",
    "plt.ylabel('Доля задолженностей', fontsize=18)\n",
    "plt.title('Доля задолженностей по категориям', fontsize=18)\n",
    "plt.show()"
   ]
  },
  {
   "cell_type": "markdown",
   "id": "6dd14b57",
   "metadata": {
    "deletable": false,
    "hideCode": false,
    "hidePrompt": false,
    "id": "6dd14b57"
   },
   "source": [
    "**Вывод:\n",
    "Как и наблюдалось выше, сильной зависимости возврата кредита в срок от уровня дохода не наблюдается, однако мужчины стабильно имеют более высокий процент залдоженности, нежели женщины, что наблюдается  по все срезам категорий дохода. Наиболее распространенная когорта \"C\" имеет наибольшую выборку, но вместе с тем и одну из самых высоких долей задолженности, в то время как когорта \"B\" имеет показатель задолженности меньше большинства остальных. Когорты \"A\", \"D\" и \"E\" имеют достаточно малую выборку, поэтому учитывать показатель задолженности не стоит. Для кредитного скоринга следует добавить положительный критерий в случае принадлежности заемщика к когорты \"B\". В случае когорты \"C\" доля слабо отличается от прочих показателей задолженности, поэтому влияние на скоринг в когорте \"C\" учитывать не стоит.** "
   ]
  },
  {
   "cell_type": "markdown",
   "id": "1dcc9b12",
   "metadata": {
    "deletable": false,
    "editable": false,
    "hideCode": false,
    "hidePrompt": false,
    "id": "1dcc9b12"
   },
   "source": [
    "#### 3.4 Как разные цели кредита влияют на его возврат в срок?"
   ]
  },
  {
   "cell_type": "markdown",
   "id": "e6b238f9",
   "metadata": {
    "hideCode": false,
    "hidePrompt": false
   },
   "source": [
    "**Для выявления зависимости между целями кредитования и возвратом его в срок нам потребуется доля должников для каждой когорты от общего числа заемщиков в когорте. Когорты в данном случае формируются по категориям.**"
   ]
  },
  {
   "cell_type": "code",
   "execution_count": 41,
   "id": "c602bc8b",
   "metadata": {
    "deletable": false,
    "hideCode": false,
    "hidePrompt": false,
    "id": "c602bc8b"
   },
   "outputs": [
    {
     "data": {
      "text/html": [
       "<div>\n",
       "<style scoped>\n",
       "    .dataframe tbody tr th:only-of-type {\n",
       "        vertical-align: middle;\n",
       "    }\n",
       "\n",
       "    .dataframe tbody tr th {\n",
       "        vertical-align: top;\n",
       "    }\n",
       "\n",
       "    .dataframe thead th {\n",
       "        text-align: right;\n",
       "    }\n",
       "</style>\n",
       "<table border=\"1\" class=\"dataframe\">\n",
       "  <thead>\n",
       "    <tr style=\"text-align: right;\">\n",
       "      <th></th>\n",
       "      <th>clients</th>\n",
       "      <th>debtors</th>\n",
       "      <th>debtors_share</th>\n",
       "    </tr>\n",
       "    <tr>\n",
       "      <th>purpose_category</th>\n",
       "      <th></th>\n",
       "      <th></th>\n",
       "      <th></th>\n",
       "    </tr>\n",
       "  </thead>\n",
       "  <tbody>\n",
       "    <tr>\n",
       "      <th>операции с автомобилем</th>\n",
       "      <td>4279</td>\n",
       "      <td>400</td>\n",
       "      <td>9.347978</td>\n",
       "    </tr>\n",
       "    <tr>\n",
       "      <th>операции с недвижимостью</th>\n",
       "      <td>10750</td>\n",
       "      <td>780</td>\n",
       "      <td>7.255814</td>\n",
       "    </tr>\n",
       "    <tr>\n",
       "      <th>получение образования</th>\n",
       "      <td>3988</td>\n",
       "      <td>369</td>\n",
       "      <td>9.252758</td>\n",
       "    </tr>\n",
       "    <tr>\n",
       "      <th>проведение свадьбы</th>\n",
       "      <td>2313</td>\n",
       "      <td>183</td>\n",
       "      <td>7.911803</td>\n",
       "    </tr>\n",
       "  </tbody>\n",
       "</table>\n",
       "</div>"
      ],
      "text/plain": [
       "                          clients  debtors  debtors_share\n",
       "purpose_category                                         \n",
       "операции с автомобилем       4279      400       9.347978\n",
       "операции с недвижимостью    10750      780       7.255814\n",
       "получение образования        3988      369       9.252758\n",
       "проведение свадьбы           2313      183       7.911803"
      ]
     },
     "execution_count": 41,
     "metadata": {},
     "output_type": "execute_result"
    }
   ],
   "source": [
    "# Выявим долю должников в каждой категории цели кредитования.\n",
    "# Поскольку id заемщика не представлен, здесь и далее примем за заемщика его доход.\n",
    "df_borrowers = data.groupby(['purpose_category']).agg({'total_income':['count'], 'debt':['sum']})\n",
    "df_borrowers['debtors_share'] = (df_borrowers['debt']['sum'] / df_borrowers['total_income']['count']) * 100\n",
    "\n",
    "\n",
    "# Сброс мультииндекса столбцов, объединяя уровни индекса\n",
    "df_borrowers.columns = ['_'.join(col).strip() for col in df_borrowers.columns.values]\n",
    "\n",
    "df_borrowers = df_borrowers.rename(columns={'total_income_count':'clients', 'debt_sum':'debtors', 'debtors_share_':'debtors_share'})\n",
    "df_borrowers"
   ]
  },
  {
   "cell_type": "code",
   "execution_count": 42,
   "id": "30a9ba5c",
   "metadata": {
    "hideCode": false,
    "hidePrompt": false
   },
   "outputs": [
    {
     "data": {
      "text/plain": [
       "([0, 1, 2, 3],\n",
       " [Text(0, 0, 'операции с автомобилем'),\n",
       "  Text(1, 0, 'операции с недвижимостью'),\n",
       "  Text(2, 0, 'получение образования'),\n",
       "  Text(3, 0, 'проведение свадьбы')])"
      ]
     },
     "execution_count": 42,
     "metadata": {},
     "output_type": "execute_result"
    },
    {
     "data": {
      "image/png": "[encoded data removed]",
      "text/plain": [
       "<Figure size 1000x600 with 1 Axes>"
      ]
     },
     "metadata": {},
     "output_type": "display_data"
    }
   ],
   "source": [
    "# Создадим визуализацию выявленной статистики.\n",
    "plt.figure(figsize=(10, 6))\n",
    "plt.bar(df_borrowers.index, df_borrowers['debtors_share'])\n",
    "\n",
    "plt.title('Доля должников по цели кредитования', fontsize=18)\n",
    "plt.ylabel('% должников', fontsize=18)\n",
    "plt.xlabel('Цель кредитования', fontsize=18)\n",
    "plt.xticks(rotation=45)"
   ]
  },
  {
   "cell_type": "markdown",
   "id": "cf05ed63",
   "metadata": {
    "deletable": false,
    "hideCode": false,
    "hidePrompt": false,
    "id": "cf05ed63"
   },
   "source": [
    "**Вывод:\n",
    "Наблюдается зависимость выплаты кредитных обязательств от цели кредита. Так, когорты \"операции с недвижимостью\" и \"проведение свадьбы\" показывают низкую долю задолженности заемщиков по сравнению с когортами \"операции с автомобилем\" и \"получение образования\". Стоит учитывать и выборку категорий: если операции с недвижимостью занимают почти половину от генеральной совокупности, то остальные категории представлены достаточно слабо для однозначных выводов. Для кредитного скоринга стоит учитывать в качестве положительного критерия займ с целью \"операции с недвижимостью\", а остальные цели оценивать с учетом прочих данных.** "
   ]
  },
  {
   "cell_type": "markdown",
   "id": "46c1f10b",
   "metadata": {
    "deletable": false,
    "editable": false,
    "hideCode": false,
    "hidePrompt": false,
    "id": "46c1f10b"
   },
   "source": [
    "#### 3.5 Приведите возможные причины появления пропусков в исходных данных."
   ]
  },
  {
   "cell_type": "markdown",
   "id": "3697d2a9",
   "metadata": {
    "deletable": false,
    "hideCode": false,
    "hidePrompt": false,
    "id": "3697d2a9"
   },
   "source": [
    "*Ответ:\n",
    "для определения возможных причин появления пропусков рассмотрим их основные случаи.*"
   ]
  },
  {
   "cell_type": "code",
   "execution_count": 43,
   "id": "2f0946f4",
   "metadata": {
    "hideCode": true,
    "hidePrompt": false
   },
   "outputs": [],
   "source": [
    "# Рассмотрим ещё раз необработанный датасет на предмет пропусков.\n",
    "raw_data = pd.read_csv('https://code.s3.yandex.net/datasets/data.csv')"
   ]
  },
  {
   "cell_type": "code",
   "execution_count": 44,
   "id": "2a79c8d2",
   "metadata": {
    "hideCode": false,
    "hidePrompt": false
   },
   "outputs": [
    {
     "name": "stdout",
     "output_type": "stream",
     "text": [
      "<class 'pandas.core.frame.DataFrame'>\n",
      "RangeIndex: 21525 entries, 0 to 21524\n",
      "Data columns (total 12 columns):\n",
      " #   Column            Non-Null Count  Dtype  \n",
      "---  ------            --------------  -----  \n",
      " 0   children          21525 non-null  int64  \n",
      " 1   days_employed     19351 non-null  float64\n",
      " 2   dob_years         21525 non-null  int64  \n",
      " 3   education         21525 non-null  object \n",
      " 4   education_id      21525 non-null  int64  \n",
      " 5   family_status     21525 non-null  object \n",
      " 6   family_status_id  21525 non-null  int64  \n",
      " 7   gender            21525 non-null  object \n",
      " 8   income_type       21525 non-null  object \n",
      " 9   debt              21525 non-null  int64  \n",
      " 10  total_income      19351 non-null  float64\n",
      " 11  purpose           21525 non-null  object \n",
      "dtypes: float64(2), int64(5), object(5)\n",
      "memory usage: 2.0+ MB\n"
     ]
    }
   ],
   "source": [
    "# Рассмотрим ещё раз необработанный датасет на предмет пропусков.\n",
    "raw_data.info()"
   ]
  },
  {
   "cell_type": "markdown",
   "id": "a851f525",
   "metadata": {
    "hideCode": false,
    "hidePrompt": false
   },
   "source": [
    "*Как можно наблюдать из таблицы выше, пропуски фиксируются в столбцах с данными о трудовом стаже и уровне дохода. И тот, и другой столбец предоставляет критически важные данные для основных критериев по кредитованию. Как сам доход, так и его обеспечнность трудовым стажем выступает основным гарантом возврата займа.\n",
    "Также возможны технические причины наличия пропусков, однако равномерное распределение пропусков по двум столбцам указывает на человеческий фактор и заинтересованность в сокрытии данных.*"
   ]
  },
  {
   "cell_type": "markdown",
   "id": "3137d257",
   "metadata": {
    "deletable": false,
    "editable": false,
    "hideCode": false,
    "hidePrompt": false,
    "id": "3137d257"
   },
   "source": [
    "#### 3.6 Объясните, почему заполнить пропуски медианным значением — лучшее решение для количественных переменных."
   ]
  },
  {
   "cell_type": "markdown",
   "id": "cf40012a",
   "metadata": {
    "deletable": false,
    "hideCode": false,
    "hidePrompt": false,
    "id": "cf40012a"
   },
   "source": [
    "*Ответ: В отличии от категориальных переменных, которые имеют ограниченный набор значений, количественные переменные имеют широкий диапазон возможных числовых значений. Данное свойство количественных переменных приводит к неравномерному распределению значений, которые ослажняют адекватную оценку статистических показателей, а следоватиельно - и выводов на их основе. Нахождение среднего арифметического для количественных переменных возможно, однако при условии однородности значений. Подсчет медианы для таких данных является наиболее предпочтительным способом заполнения пропусков, т.к. предоставляет наиболее типичное или усредненное значение в пределах всей совокупности. Таким образом, если мы заполняем пропуски средним арифметическим значением, то рискуем исказить данные из-за нетипично высоких или низких значений, а медиана в таком случае позволяет выбрать наиболее типичное значение, не искажающее имеющиеся данные.* "
   ]
  },
  {
   "cell_type": "markdown",
   "id": "57bc304e",
   "metadata": {
    "deletable": false,
    "editable": false,
    "hideCode": false,
    "hidePrompt": false,
    "id": "57bc304e"
   },
   "source": [
    "### Шаг 4: общий вывод."
   ]
  },
  {
   "cell_type": "markdown",
   "id": "1ab75d1c",
   "metadata": {
    "deletable": false,
    "hideCode": false,
    "hidePrompt": false,
    "id": "1ab75d1c"
   },
   "source": [
    "#### Обзор данных\n",
    "Данный датасет предоставляет данные по клиентам и их кредитной истории. В датасет включена основная информация о клиентах, включая:\n",
    "+ наличие и/или количество детей,\n",
    "+ трудовой стаж,\n",
    "+ возраст,\n",
    "+ образование,\n",
    "+ гражданское состояние,\n",
    "+ пол,\n",
    "+ источник дохода,\n",
    "+ совокупный доход,\n",
    "+ цель предыдущего кредитования.\n",
    "\n",
    "Общий размер датасета перед предобработки данных - 21525 вхождений, после - 21330 вхождений. Данный объем представляется недостаточным для однозначных выводов, однако в пределах такого объема данных выделяется ряд трендов, которые будут полезны для кредитного скоринга будущих заемщиков. Дальнейшие выводы требуют дополнительного подтверждения на болшей выборке.\n",
    "\n",
    "#### Методология\n",
    "\n",
    "##### Предобработка данных\n",
    "Полученные данные имели ряд типичных для сырых данных свойств, без устранения которых было бы невозможно получить достоверные результаты. Среди них: пропуски, некорректные типы данных, аномальные значения, дубликаты. Недостоверные значения (пропуски, дубликаты, аномалии) были удалены или приведены к средним значениям, а типы данных приведены к удобному для дальнейшего манипулирвоания формату. Также крупные разбросы в ключевых для анализа значениях были категоризированы (уровень дохода и цель кредитования).\n",
    "\n",
    "##### Анализ данных на предмет наличия зависимостей по ключевым параметрам\n",
    "На данном этапе производилась группировка данных по ключевым параметрам (наличие детей, гражданское состояние, уровень дохода и цель кредитования). Данные параметры сопоставлялись с процентом заемщиков, имеющих задолженность, с целью выявления зависимости возрата займа в срок от выбранных параметров. Для этого из датасета выявлены целевые срезы, а также составлены сводные таблицы, сгруппированные по ключевым параметрам. На основе данных таблиц строится визуализация для наглядного выявления зависимости и ее силы. В некоторых случаях, когда проявлялась слабовыраженная зависимость, проводилось сопоставление целевого паракметра с дополнительным на предмет усиления или ослабления зависимости. По результатам выявленных показателей строятся выводы по ключевым параметрам и зависимостью своевременного возрата займа от них.\n",
    "\n",
    "#### Выводы по клбчевым параметрам\n",
    "##### Количество детей заемщиков\n",
    "По факту сопоставления уровня задолженности у клиентов, разделенных по количеству детей, наблюдается слабая зависимость возврата займа. Больший  контраст выявлен по соспоставлению заемщиков с детьми и без детей: если разница в проценте должников с детьми варьируется в пределах 1-1,5%, то должников без детей на 2 % меньше от среднего показателея должников с детьми.\n",
    "В качестве дополнительного критерия включена и половая принадлежность. И в отдельном распределении по полу, и в совокупном с критерием наличия детей должниками стабильно выступают мужчины. Данный тренд нарушается только при 3 и более детей, однако в данном срезе выборка недостаточна для утверждения по всем категориям родителей.\n",
    "\n",
    "##### Семейное положение\n",
    "Сопоставление заемщиков по семейному положению и их проценту задолженности от общего числа демонстрирует повышенный процент должников среди тех, кто не состоит в официально оформленном браке, в то время как клиенты, состоящие в действующем или недействующем официальном браке, показывают меньший процент задолженности. В этом отношении любопытно распределение должников по половой принадлежности: женщины вне зависимости от гражданского состояния показывают стабильный процент задолженности в пределах 6-8%, пока мужчины усиливают выявленный ранее тренд, показывая наименьший процент задолженности именно у тех, кто состоит или состоял в браке.\n",
    "\n",
    "##### Уровень дохода\n",
    "При сопоставлении уровня дохода заемщиков и процента их должников категория дохода \"C\" (50000-200000 р.) имеет одну из самых высоких долей задолженности (хотя и имеет наибольшую выборку), в то время как когорта \"B\" (200000-1000000) имеет показатель задолженности меньше большинства остальных. Когорты \"A\" (1000000 и выше), \"D\" (30000-50000) и \"E\"(до 30000) имеют достаточно малую выборку для достоверного вывода. При добавлении категории пола женщины демонстрируют относительно низкий процент задолженности (4-7%), в то время как мужчины, наоборот, превышают 10% во всех категориях, кроме категории \"B\". Наиболее показательна для анализа категория \"B\", так как вне зависимости от пола она демонстрирует относительно высокий доход при низком проценте задолженности, что следует рассматривать как положительный признак для потенциального заемщика.\n",
    "\n",
    "##### Цель кредитования\n",
    "Выявления зависимости возврата кредита в срок от цели кредитования демонстрирует следующие результаты: категории \"операции с недвижимостью\" и \"проведение свадьбы\" показывают низкую долю задолженности заемщиков по сравнению с категориями \"операции с автомобилем\" и \"получение образования\". Однако категория \"проведение свадьбы\" показывает слабую выборку, поэтому положительным критерием выступает ипотека, в то время как кредитование под дополнительные затраты (автомобиль и образование) показывает более высокий процент риска.\n",
    "\n",
    "#### Вывод\n",
    "На основе проведенного анализа и его результатов можно выделить основные криетрии для положительной или отрицательной оценки риска потенциального заемщика.\n",
    "\n",
    "Так, среди целевых критериев для выявления зависимости возврата кредита в срок наиболее надежными (низкими по задолженности) выступают:\n",
    "+ отсутствие детей,\n",
    "+ официально оформленный брак (вне зависимости от актуального статуса),\n",
    "+ доход от 50000 до 200000 р.,\n",
    "+ ипотека.\n",
    "\n",
    "Среди характеристик, увеличивающих риск просрочки выплат по кредиту, выделяются:\n",
    "+ родитель (более 2-х детей),\n",
    "+ не состоит в официально зарегистрированном браке,\n",
    "+ доход ниже 50000 и выше 200000 р.,\n",
    "+ кредит на автомобиль или образование.\n",
    "\n",
    "Отдельно стоит отметить распределение должников по половой принадлежности. Хотя должников среди мужчин значительно больше, чем у женщин, данная закономерность требует дополнительного анализа на большей выборке, поскольку не учитываются дополнительные критерии, такие как социальные нормы, источники дохода и другие. По данной причине половую принадлежность стоит учитывать в качестве дополнительного, но не основного критерия оценки риска."
   ]
  }
 ],
 "metadata": {
  "ExecuteTimeLog": [
   {
    "duration": 542,
    "start_time": "2024-01-21T13:58:24.219Z"
   },
   {
    "duration": 25,
    "start_time": "2024-01-21T13:58:37.625Z"
   },
   {
    "duration": 17,
    "start_time": "2024-01-21T13:58:54.754Z"
   },
   {
    "duration": 12,
    "start_time": "2024-01-21T13:59:03.181Z"
   },
   {
    "duration": 38,
    "start_time": "2024-01-21T13:59:16.708Z"
   },
   {
    "duration": 4,
    "start_time": "2024-01-21T13:59:25.040Z"
   },
   {
    "duration": 7,
    "start_time": "2024-01-21T13:59:28.242Z"
   },
   {
    "duration": 4,
    "start_time": "2024-01-21T13:59:33.218Z"
   },
   {
    "duration": 7,
    "start_time": "2024-01-21T13:59:36.472Z"
   },
   {
    "duration": 4,
    "start_time": "2024-01-21T13:59:40.735Z"
   },
   {
    "duration": 43,
    "start_time": "2024-01-21T13:59:46.316Z"
   },
   {
    "duration": 15,
    "start_time": "2024-01-21T13:59:51.017Z"
   },
   {
    "duration": 3,
    "start_time": "2024-01-21T13:59:58.117Z"
   },
   {
    "duration": 13,
    "start_time": "2024-01-21T14:00:04.458Z"
   },
   {
    "duration": 35,
    "start_time": "2024-01-21T14:00:07.042Z"
   },
   {
    "duration": 18,
    "start_time": "2024-01-21T14:00:08.433Z"
   },
   {
    "duration": 3,
    "start_time": "2024-01-21T14:00:13.319Z"
   },
   {
    "duration": 12,
    "start_time": "2024-01-21T14:00:15.496Z"
   },
   {
    "duration": 6,
    "start_time": "2024-01-21T14:00:21.263Z"
   },
   {
    "duration": 3,
    "start_time": "2024-01-21T14:00:24.283Z"
   },
   {
    "duration": 9,
    "start_time": "2024-01-21T14:00:34.314Z"
   },
   {
    "duration": 7,
    "start_time": "2024-01-21T14:07:10.518Z"
   },
   {
    "duration": 7,
    "start_time": "2024-01-21T14:08:46.410Z"
   },
   {
    "duration": 7,
    "start_time": "2024-01-21T14:17:10.493Z"
   },
   {
    "duration": 8,
    "start_time": "2024-01-21T14:17:35.928Z"
   },
   {
    "duration": 5,
    "start_time": "2024-01-21T14:19:32.463Z"
   },
   {
    "duration": 6,
    "start_time": "2024-01-21T14:26:02.632Z"
   },
   {
    "duration": 1067,
    "start_time": "2024-01-21T14:31:59.660Z"
   },
   {
    "duration": 5,
    "start_time": "2024-01-21T14:32:12.133Z"
   },
   {
    "duration": 299,
    "start_time": "2024-01-21T14:32:26.054Z"
   },
   {
    "duration": 95,
    "start_time": "2024-01-21T14:34:06.303Z"
   },
   {
    "duration": 6,
    "start_time": "2024-01-21T14:34:28.227Z"
   },
   {
    "duration": 8,
    "start_time": "2024-01-21T14:37:40.605Z"
   },
   {
    "duration": 8,
    "start_time": "2024-01-21T14:40:35.679Z"
   },
   {
    "duration": 9,
    "start_time": "2024-01-21T14:43:15.792Z"
   },
   {
    "duration": 10,
    "start_time": "2024-01-21T14:45:52.302Z"
   },
   {
    "duration": 8,
    "start_time": "2024-01-21T14:49:19.675Z"
   },
   {
    "duration": 5,
    "start_time": "2024-01-21T14:49:35.828Z"
   },
   {
    "duration": 9,
    "start_time": "2024-01-21T14:49:38.626Z"
   },
   {
    "duration": 8,
    "start_time": "2024-01-21T14:49:40.986Z"
   },
   {
    "duration": 11,
    "start_time": "2024-01-21T14:52:46.846Z"
   },
   {
    "duration": 9,
    "start_time": "2024-01-21T14:54:00.791Z"
   },
   {
    "duration": 12,
    "start_time": "2024-01-21T14:55:53.517Z"
   },
   {
    "duration": 5,
    "start_time": "2024-01-21T14:55:58.124Z"
   },
   {
    "duration": 7,
    "start_time": "2024-01-21T14:55:58.879Z"
   },
   {
    "duration": 11,
    "start_time": "2024-01-21T14:56:00.229Z"
   },
   {
    "duration": 10,
    "start_time": "2024-01-21T14:57:37.731Z"
   },
   {
    "duration": 5,
    "start_time": "2024-01-21T14:57:58.010Z"
   },
   {
    "duration": 6,
    "start_time": "2024-01-21T14:57:59.244Z"
   },
   {
    "duration": 10,
    "start_time": "2024-01-21T14:58:01.525Z"
   },
   {
    "duration": 6,
    "start_time": "2024-01-21T15:17:29.055Z"
   },
   {
    "duration": 7,
    "start_time": "2024-01-21T15:20:21.104Z"
   },
   {
    "duration": 7,
    "start_time": "2024-01-21T15:21:26.144Z"
   },
   {
    "duration": 11,
    "start_time": "2024-01-21T15:25:06.877Z"
   },
   {
    "duration": 11,
    "start_time": "2024-01-21T15:25:47.160Z"
   },
   {
    "duration": 88,
    "start_time": "2024-01-21T15:27:38.405Z"
   },
   {
    "duration": 105,
    "start_time": "2024-01-21T15:27:45.715Z"
   },
   {
    "duration": 12,
    "start_time": "2024-01-21T15:28:13.757Z"
   },
   {
    "duration": 6,
    "start_time": "2024-01-21T15:30:54.998Z"
   },
   {
    "duration": 6,
    "start_time": "2024-01-21T15:30:55.866Z"
   },
   {
    "duration": 15,
    "start_time": "2024-01-21T15:30:57.996Z"
   },
   {
    "duration": 12,
    "start_time": "2024-01-21T15:38:04.991Z"
   },
   {
    "duration": 11,
    "start_time": "2024-01-21T15:38:40.427Z"
   },
   {
    "duration": 7,
    "start_time": "2024-01-21T15:40:10.154Z"
   },
   {
    "duration": 7,
    "start_time": "2024-01-21T15:40:10.759Z"
   },
   {
    "duration": 12,
    "start_time": "2024-01-21T15:40:12.479Z"
   },
   {
    "duration": 8,
    "start_time": "2024-01-21T16:12:51.546Z"
   },
   {
    "duration": 8,
    "start_time": "2024-01-21T16:14:19.366Z"
   },
   {
    "duration": 10,
    "start_time": "2024-01-21T16:14:24.032Z"
   },
   {
    "duration": 8,
    "start_time": "2024-01-21T16:14:40.638Z"
   },
   {
    "duration": 7,
    "start_time": "2024-01-21T16:14:44.093Z"
   },
   {
    "duration": 8,
    "start_time": "2024-01-21T16:14:52.214Z"
   },
   {
    "duration": 8,
    "start_time": "2024-01-21T16:14:55.662Z"
   },
   {
    "duration": 5,
    "start_time": "2024-01-21T16:15:46.721Z"
   },
   {
    "duration": 8,
    "start_time": "2024-01-21T16:15:56.217Z"
   },
   {
    "duration": 8,
    "start_time": "2024-01-21T16:16:03.362Z"
   },
   {
    "duration": 7,
    "start_time": "2024-01-21T16:16:07.081Z"
   },
   {
    "duration": 8,
    "start_time": "2024-01-21T16:16:28.176Z"
   },
   {
    "duration": 1139,
    "start_time": "2024-01-21T16:19:43.761Z"
   },
   {
    "duration": 17,
    "start_time": "2024-01-21T16:20:18.000Z"
   },
   {
    "duration": 19,
    "start_time": "2024-01-21T16:20:44.990Z"
   },
   {
    "duration": 6,
    "start_time": "2024-01-21T16:21:03.351Z"
   },
   {
    "duration": 13,
    "start_time": "2024-01-21T16:21:25.639Z"
   },
   {
    "duration": 13,
    "start_time": "2024-01-21T16:21:41.961Z"
   },
   {
    "duration": 8,
    "start_time": "2024-01-21T16:21:45.881Z"
   },
   {
    "duration": 9,
    "start_time": "2024-01-21T16:21:47.590Z"
   },
   {
    "duration": 14,
    "start_time": "2024-01-21T16:21:49.134Z"
   },
   {
    "duration": 14,
    "start_time": "2024-01-21T16:23:04.876Z"
   },
   {
    "duration": 7,
    "start_time": "2024-01-21T16:23:21.368Z"
   },
   {
    "duration": 8,
    "start_time": "2024-01-21T16:23:24.130Z"
   },
   {
    "duration": 11,
    "start_time": "2024-01-21T16:23:44.609Z"
   },
   {
    "duration": 10,
    "start_time": "2024-01-21T16:28:58.444Z"
   },
   {
    "duration": 11,
    "start_time": "2024-01-21T16:28:59.945Z"
   },
   {
    "duration": 15,
    "start_time": "2024-01-21T16:29:01.916Z"
   },
   {
    "duration": 9,
    "start_time": "2024-01-21T16:41:09.824Z"
   },
   {
    "duration": 8,
    "start_time": "2024-01-21T16:43:13.986Z"
   },
   {
    "duration": 12,
    "start_time": "2024-01-21T16:46:18.583Z"
   },
   {
    "duration": 8,
    "start_time": "2024-01-21T17:12:42.725Z"
   },
   {
    "duration": 12,
    "start_time": "2024-01-21T17:13:37.631Z"
   },
   {
    "duration": 12,
    "start_time": "2024-01-21T17:15:55.716Z"
   },
   {
    "duration": 118,
    "start_time": "2024-01-21T17:40:11.102Z"
   },
   {
    "duration": 90,
    "start_time": "2024-01-21T17:40:40.286Z"
   },
   {
    "duration": 97,
    "start_time": "2024-01-21T17:40:55.968Z"
   },
   {
    "duration": 91,
    "start_time": "2024-01-21T17:42:19.753Z"
   },
   {
    "duration": 77,
    "start_time": "2024-01-21T18:29:34.796Z"
   },
   {
    "duration": 16,
    "start_time": "2024-01-21T18:29:36.115Z"
   },
   {
    "duration": 23,
    "start_time": "2024-01-21T18:29:37.489Z"
   },
   {
    "duration": 11,
    "start_time": "2024-01-21T18:29:40.036Z"
   },
   {
    "duration": 37,
    "start_time": "2024-01-21T18:29:41.351Z"
   },
   {
    "duration": 4,
    "start_time": "2024-01-21T18:29:43.157Z"
   },
   {
    "duration": 9,
    "start_time": "2024-01-21T18:29:44.273Z"
   },
   {
    "duration": 5,
    "start_time": "2024-01-21T18:29:45.953Z"
   },
   {
    "duration": 6,
    "start_time": "2024-01-21T18:29:47.013Z"
   },
   {
    "duration": 5,
    "start_time": "2024-01-21T18:29:48.043Z"
   },
   {
    "duration": 36,
    "start_time": "2024-01-21T18:29:49.652Z"
   },
   {
    "duration": 11,
    "start_time": "2024-01-21T18:29:50.689Z"
   },
   {
    "duration": 4,
    "start_time": "2024-01-21T18:29:54.529Z"
   },
   {
    "duration": 12,
    "start_time": "2024-01-21T18:29:56.021Z"
   },
   {
    "duration": 28,
    "start_time": "2024-01-21T18:29:56.918Z"
   },
   {
    "duration": 20,
    "start_time": "2024-01-21T18:29:57.430Z"
   },
   {
    "duration": 4,
    "start_time": "2024-01-21T18:29:58.873Z"
   },
   {
    "duration": 11,
    "start_time": "2024-01-21T18:29:59.377Z"
   },
   {
    "duration": 5,
    "start_time": "2024-01-21T18:30:00.400Z"
   },
   {
    "duration": 3,
    "start_time": "2024-01-21T18:30:02.319Z"
   },
   {
    "duration": 9,
    "start_time": "2024-01-21T18:30:02.901Z"
   },
   {
    "duration": 7,
    "start_time": "2024-01-21T18:30:04.936Z"
   },
   {
    "duration": 7,
    "start_time": "2024-01-21T18:30:05.442Z"
   },
   {
    "duration": 11,
    "start_time": "2024-01-21T18:30:05.950Z"
   },
   {
    "duration": 9,
    "start_time": "2024-01-21T18:30:07.926Z"
   },
   {
    "duration": 9,
    "start_time": "2024-01-21T18:30:08.437Z"
   },
   {
    "duration": 11,
    "start_time": "2024-01-21T18:30:08.933Z"
   },
   {
    "duration": 6,
    "start_time": "2024-01-21T18:30:10.903Z"
   },
   {
    "duration": 7,
    "start_time": "2024-01-21T18:30:11.400Z"
   },
   {
    "duration": 11,
    "start_time": "2024-01-21T18:30:11.917Z"
   },
   {
    "duration": 8,
    "start_time": "2024-01-21T18:30:13.910Z"
   },
   {
    "duration": 8,
    "start_time": "2024-01-21T18:30:14.428Z"
   },
   {
    "duration": 10,
    "start_time": "2024-01-21T18:30:14.926Z"
   },
   {
    "duration": 87,
    "start_time": "2024-01-21T18:30:16.911Z"
   },
   {
    "duration": 469,
    "start_time": "2024-01-21T18:53:22.648Z"
   },
   {
    "duration": 21,
    "start_time": "2024-01-21T18:53:23.118Z"
   },
   {
    "duration": 16,
    "start_time": "2024-01-21T18:53:23.140Z"
   },
   {
    "duration": 10,
    "start_time": "2024-01-21T18:53:23.157Z"
   },
   {
    "duration": 34,
    "start_time": "2024-01-21T18:53:23.168Z"
   },
   {
    "duration": 3,
    "start_time": "2024-01-21T18:53:23.204Z"
   },
   {
    "duration": 26,
    "start_time": "2024-01-21T18:53:23.208Z"
   },
   {
    "duration": 4,
    "start_time": "2024-01-21T18:53:23.235Z"
   },
   {
    "duration": 8,
    "start_time": "2024-01-21T18:53:23.240Z"
   },
   {
    "duration": 4,
    "start_time": "2024-01-21T18:53:23.251Z"
   },
   {
    "duration": 33,
    "start_time": "2024-01-21T18:53:23.256Z"
   },
   {
    "duration": 10,
    "start_time": "2024-01-21T18:53:23.291Z"
   },
   {
    "duration": 39,
    "start_time": "2024-01-21T18:53:23.302Z"
   },
   {
    "duration": 21,
    "start_time": "2024-01-21T18:53:23.343Z"
   },
   {
    "duration": 26,
    "start_time": "2024-01-21T18:53:23.366Z"
   },
   {
    "duration": 15,
    "start_time": "2024-01-21T18:53:23.394Z"
   },
   {
    "duration": 3,
    "start_time": "2024-01-21T18:53:23.411Z"
   },
   {
    "duration": 25,
    "start_time": "2024-01-21T18:53:23.415Z"
   },
   {
    "duration": 6,
    "start_time": "2024-01-21T18:53:23.441Z"
   },
   {
    "duration": 4,
    "start_time": "2024-01-21T18:53:23.448Z"
   },
   {
    "duration": 12,
    "start_time": "2024-01-21T18:53:23.453Z"
   },
   {
    "duration": 5,
    "start_time": "2024-01-21T18:53:23.466Z"
   },
   {
    "duration": 7,
    "start_time": "2024-01-21T18:53:23.473Z"
   },
   {
    "duration": 11,
    "start_time": "2024-01-21T18:53:23.482Z"
   },
   {
    "duration": 7,
    "start_time": "2024-01-21T18:53:23.534Z"
   },
   {
    "duration": 8,
    "start_time": "2024-01-21T18:53:23.543Z"
   },
   {
    "duration": 12,
    "start_time": "2024-01-21T18:53:23.553Z"
   },
   {
    "duration": 8,
    "start_time": "2024-01-21T18:53:23.569Z"
   },
   {
    "duration": 10,
    "start_time": "2024-01-21T18:53:23.578Z"
   },
   {
    "duration": 47,
    "start_time": "2024-01-21T18:53:23.590Z"
   },
   {
    "duration": 9,
    "start_time": "2024-01-21T18:53:23.639Z"
   },
   {
    "duration": 7,
    "start_time": "2024-01-21T18:53:23.649Z"
   },
   {
    "duration": 10,
    "start_time": "2024-01-21T18:53:23.657Z"
   },
   {
    "duration": 78,
    "start_time": "2024-01-21T18:53:23.668Z"
   },
   {
    "duration": 52,
    "start_time": "2024-01-22T18:46:30.465Z"
   },
   {
    "duration": 470,
    "start_time": "2024-01-22T18:46:39.779Z"
   },
   {
    "duration": 22,
    "start_time": "2024-01-22T18:46:40.927Z"
   },
   {
    "duration": 16,
    "start_time": "2024-01-22T18:46:42.113Z"
   },
   {
    "duration": 10,
    "start_time": "2024-01-22T18:46:44.006Z"
   },
   {
    "duration": 36,
    "start_time": "2024-01-22T18:46:45.075Z"
   },
   {
    "duration": 3,
    "start_time": "2024-01-22T18:46:46.515Z"
   },
   {
    "duration": 8,
    "start_time": "2024-01-22T18:46:47.911Z"
   },
   {
    "duration": 4,
    "start_time": "2024-01-22T18:46:49.516Z"
   },
   {
    "duration": 6,
    "start_time": "2024-01-22T18:46:50.884Z"
   },
   {
    "duration": 4,
    "start_time": "2024-01-22T18:46:52.257Z"
   },
   {
    "duration": 36,
    "start_time": "2024-01-22T18:46:54.172Z"
   },
   {
    "duration": 10,
    "start_time": "2024-01-22T18:46:55.392Z"
   },
   {
    "duration": 3,
    "start_time": "2024-01-22T18:46:57.243Z"
   },
   {
    "duration": 12,
    "start_time": "2024-01-22T18:46:58.769Z"
   },
   {
    "duration": 20,
    "start_time": "2024-01-22T18:46:59.743Z"
   },
   {
    "duration": 17,
    "start_time": "2024-01-22T18:47:00.239Z"
   },
   {
    "duration": 3,
    "start_time": "2024-01-22T18:47:01.838Z"
   },
   {
    "duration": 10,
    "start_time": "2024-01-22T18:47:02.402Z"
   },
   {
    "duration": 5,
    "start_time": "2024-01-22T18:47:03.545Z"
   },
   {
    "duration": 4,
    "start_time": "2024-01-22T18:47:04.751Z"
   },
   {
    "duration": 9,
    "start_time": "2024-01-22T18:47:05.356Z"
   },
   {
    "duration": 11,
    "start_time": "2024-01-22T18:47:07.610Z"
   },
   {
    "duration": 6,
    "start_time": "2024-01-22T18:47:10.308Z"
   },
   {
    "duration": 14,
    "start_time": "2024-01-22T18:47:23.577Z"
   },
   {
    "duration": 27,
    "start_time": "2024-01-22T18:50:51.863Z"
   },
   {
    "duration": 13,
    "start_time": "2024-01-22T18:51:00.462Z"
   },
   {
    "duration": 13,
    "start_time": "2024-01-22T18:53:33.187Z"
   },
   {
    "duration": 10,
    "start_time": "2024-01-22T18:57:08.984Z"
   },
   {
    "duration": 13,
    "start_time": "2024-01-22T18:59:23.561Z"
   },
   {
    "duration": 13,
    "start_time": "2024-01-22T18:59:37.060Z"
   },
   {
    "duration": 12,
    "start_time": "2024-01-22T19:02:14.530Z"
   },
   {
    "duration": 12,
    "start_time": "2024-01-22T19:02:26.810Z"
   },
   {
    "duration": 11,
    "start_time": "2024-01-22T19:04:58.396Z"
   },
   {
    "duration": 9,
    "start_time": "2024-01-22T19:11:23.309Z"
   },
   {
    "duration": 14,
    "start_time": "2024-01-22T19:11:30.615Z"
   },
   {
    "duration": 16,
    "start_time": "2024-01-22T19:11:51.073Z"
   },
   {
    "duration": 12,
    "start_time": "2024-01-22T19:12:16.988Z"
   },
   {
    "duration": 9,
    "start_time": "2024-01-22T19:12:58.799Z"
   },
   {
    "duration": 13,
    "start_time": "2024-01-22T19:14:47.176Z"
   },
   {
    "duration": 13,
    "start_time": "2024-01-22T19:21:30.156Z"
   },
   {
    "duration": 11,
    "start_time": "2024-01-22T19:25:05.864Z"
   },
   {
    "duration": 15,
    "start_time": "2024-01-22T19:25:17.425Z"
   },
   {
    "duration": 17,
    "start_time": "2024-01-22T19:25:44.744Z"
   },
   {
    "duration": 7,
    "start_time": "2024-01-22T19:25:45.823Z"
   },
   {
    "duration": 17,
    "start_time": "2024-01-22T19:25:54.608Z"
   },
   {
    "duration": 17,
    "start_time": "2024-01-22T19:33:42.218Z"
   },
   {
    "duration": 4,
    "start_time": "2024-01-22T19:33:55.839Z"
   },
   {
    "duration": 334,
    "start_time": "2024-01-22T19:34:12.671Z"
   },
   {
    "duration": 12,
    "start_time": "2024-01-22T19:34:37.821Z"
   },
   {
    "duration": 15,
    "start_time": "2024-01-22T19:35:53.250Z"
   },
   {
    "duration": 1169,
    "start_time": "2024-01-22T19:41:06.367Z"
   },
   {
    "duration": 1227,
    "start_time": "2024-01-22T19:41:54.714Z"
   },
   {
    "duration": 1204,
    "start_time": "2024-01-22T19:42:33.928Z"
   },
   {
    "duration": 18,
    "start_time": "2024-01-22T19:43:07.959Z"
   },
   {
    "duration": 26,
    "start_time": "2024-01-22T19:43:57.338Z"
   },
   {
    "duration": 18,
    "start_time": "2024-01-22T19:44:32.850Z"
   },
   {
    "duration": 6,
    "start_time": "2024-01-22T19:44:34.252Z"
   },
   {
    "duration": 16,
    "start_time": "2024-01-22T19:44:53.791Z"
   },
   {
    "duration": 10,
    "start_time": "2024-01-22T19:46:22.251Z"
   },
   {
    "duration": 20,
    "start_time": "2024-01-22T19:47:15.345Z"
   },
   {
    "duration": 77,
    "start_time": "2024-01-22T19:48:10.482Z"
   },
   {
    "duration": 16,
    "start_time": "2024-01-22T19:48:11.762Z"
   },
   {
    "duration": 75,
    "start_time": "2024-01-22T19:48:14.931Z"
   },
   {
    "duration": 15,
    "start_time": "2024-01-22T19:48:16.073Z"
   },
   {
    "duration": 16,
    "start_time": "2024-01-22T19:48:17.421Z"
   },
   {
    "duration": 12,
    "start_time": "2024-01-22T19:48:19.404Z"
   },
   {
    "duration": 38,
    "start_time": "2024-01-22T19:48:20.456Z"
   },
   {
    "duration": 3,
    "start_time": "2024-01-22T19:48:22.181Z"
   },
   {
    "duration": 8,
    "start_time": "2024-01-22T19:48:23.192Z"
   },
   {
    "duration": 5,
    "start_time": "2024-01-22T19:48:24.862Z"
   },
   {
    "duration": 5,
    "start_time": "2024-01-22T19:48:25.915Z"
   },
   {
    "duration": 4,
    "start_time": "2024-01-22T19:48:26.867Z"
   },
   {
    "duration": 35,
    "start_time": "2024-01-22T19:48:28.410Z"
   },
   {
    "duration": 11,
    "start_time": "2024-01-22T19:48:29.522Z"
   },
   {
    "duration": 3,
    "start_time": "2024-01-22T19:48:31.674Z"
   },
   {
    "duration": 12,
    "start_time": "2024-01-22T19:48:33.215Z"
   },
   {
    "duration": 20,
    "start_time": "2024-01-22T19:48:34.195Z"
   },
   {
    "duration": 18,
    "start_time": "2024-01-22T19:48:34.725Z"
   },
   {
    "duration": 3,
    "start_time": "2024-01-22T19:48:36.344Z"
   },
   {
    "duration": 12,
    "start_time": "2024-01-22T19:48:36.876Z"
   },
   {
    "duration": 6,
    "start_time": "2024-01-22T19:48:37.995Z"
   },
   {
    "duration": 3,
    "start_time": "2024-01-22T19:48:39.095Z"
   },
   {
    "duration": 8,
    "start_time": "2024-01-22T19:48:39.626Z"
   },
   {
    "duration": 21,
    "start_time": "2024-01-22T19:48:42.058Z"
   },
   {
    "duration": 17,
    "start_time": "2024-01-22T20:23:18.499Z"
   },
   {
    "duration": 19,
    "start_time": "2024-01-22T21:58:27.527Z"
   },
   {
    "duration": 104,
    "start_time": "2024-01-22T22:09:13.348Z"
   },
   {
    "duration": 20,
    "start_time": "2024-01-22T22:23:58.167Z"
   },
   {
    "duration": 19,
    "start_time": "2024-01-22T22:24:11.596Z"
   },
   {
    "duration": 436,
    "start_time": "2024-01-23T17:41:46.510Z"
   },
   {
    "duration": 82,
    "start_time": "2024-01-23T18:09:15.287Z"
   },
   {
    "duration": 330,
    "start_time": "2024-01-23T18:09:22.400Z"
   },
   {
    "duration": 15,
    "start_time": "2024-01-23T18:09:23.484Z"
   },
   {
    "duration": 15,
    "start_time": "2024-01-23T18:09:24.762Z"
   },
   {
    "duration": 13,
    "start_time": "2024-01-23T18:09:26.911Z"
   },
   {
    "duration": 6,
    "start_time": "2024-01-23T18:09:28.505Z"
   },
   {
    "duration": 5,
    "start_time": "2024-01-23T18:11:02.141Z"
   },
   {
    "duration": 5,
    "start_time": "2024-01-23T18:14:44.388Z"
   },
   {
    "duration": 6,
    "start_time": "2024-01-23T18:14:45.364Z"
   },
   {
    "duration": 13,
    "start_time": "2024-01-23T18:14:46.331Z"
   },
   {
    "duration": 8,
    "start_time": "2024-01-23T18:14:47.366Z"
   },
   {
    "duration": 4,
    "start_time": "2024-01-23T18:14:48.291Z"
   },
   {
    "duration": 40,
    "start_time": "2024-01-23T18:14:49.704Z"
   },
   {
    "duration": 10,
    "start_time": "2024-01-23T18:14:50.631Z"
   },
   {
    "duration": 104,
    "start_time": "2024-01-24T17:47:45.521Z"
   },
   {
    "duration": 532,
    "start_time": "2024-01-24T17:48:13.835Z"
   },
   {
    "duration": 24,
    "start_time": "2024-01-24T17:48:15.987Z"
   },
   {
    "duration": 17,
    "start_time": "2024-01-24T17:48:17.918Z"
   },
   {
    "duration": 11,
    "start_time": "2024-01-24T17:48:21.796Z"
   },
   {
    "duration": 4,
    "start_time": "2024-01-24T17:48:23.111Z"
   },
   {
    "duration": 38,
    "start_time": "2024-01-24T17:48:43.685Z"
   },
   {
    "duration": 4,
    "start_time": "2024-01-24T17:48:45.392Z"
   },
   {
    "duration": 8,
    "start_time": "2024-01-24T17:48:47.065Z"
   },
   {
    "duration": 4,
    "start_time": "2024-01-24T17:48:49.556Z"
   },
   {
    "duration": 5,
    "start_time": "2024-01-24T17:48:52.051Z"
   },
   {
    "duration": 7,
    "start_time": "2024-01-24T17:48:55.353Z"
   },
   {
    "duration": 10,
    "start_time": "2024-01-24T17:48:57.350Z"
   },
   {
    "duration": 5,
    "start_time": "2024-01-24T17:48:58.838Z"
   },
   {
    "duration": 5,
    "start_time": "2024-01-24T17:49:18.901Z"
   },
   {
    "duration": 6,
    "start_time": "2024-01-24T17:49:21.528Z"
   },
   {
    "duration": 44,
    "start_time": "2024-01-24T17:49:25.288Z"
   },
   {
    "duration": 11,
    "start_time": "2024-01-24T17:49:26.214Z"
   },
   {
    "duration": 4,
    "start_time": "2024-01-24T17:49:27.919Z"
   },
   {
    "duration": 13,
    "start_time": "2024-01-24T17:49:29.504Z"
   },
   {
    "duration": 21,
    "start_time": "2024-01-24T17:49:30.919Z"
   },
   {
    "duration": 118,
    "start_time": "2024-01-24T17:49:30.966Z"
   },
   {
    "duration": 4,
    "start_time": "2024-01-24T17:49:33.384Z"
   },
   {
    "duration": 11,
    "start_time": "2024-01-24T17:49:33.979Z"
   },
   {
    "duration": 6,
    "start_time": "2024-01-24T17:49:35.134Z"
   },
   {
    "duration": 3,
    "start_time": "2024-01-24T17:49:36.397Z"
   },
   {
    "duration": 9,
    "start_time": "2024-01-24T17:49:36.973Z"
   },
   {
    "duration": 20,
    "start_time": "2024-01-24T17:49:39.856Z"
   },
   {
    "duration": 17,
    "start_time": "2024-01-24T17:49:43.856Z"
   },
   {
    "duration": 22,
    "start_time": "2024-01-24T17:49:45.064Z"
   },
   {
    "duration": 7,
    "start_time": "2024-01-24T17:49:47.882Z"
   },
   {
    "duration": 8,
    "start_time": "2024-01-24T17:49:48.423Z"
   },
   {
    "duration": 11,
    "start_time": "2024-01-24T17:49:49.037Z"
   },
   {
    "duration": 8,
    "start_time": "2024-01-24T17:49:51.540Z"
   },
   {
    "duration": 8,
    "start_time": "2024-01-24T17:49:51.996Z"
   },
   {
    "duration": 11,
    "start_time": "2024-01-24T17:49:52.502Z"
   },
   {
    "duration": 7,
    "start_time": "2024-01-24T17:49:54.902Z"
   },
   {
    "duration": 8,
    "start_time": "2024-01-24T17:49:55.410Z"
   },
   {
    "duration": 10,
    "start_time": "2024-01-24T17:49:55.944Z"
   },
   {
    "duration": 91,
    "start_time": "2024-01-24T17:49:58.510Z"
   },
   {
    "duration": 18,
    "start_time": "2024-01-24T17:51:49.464Z"
   },
   {
    "duration": 19,
    "start_time": "2024-01-24T17:52:03.764Z"
   },
   {
    "duration": 19,
    "start_time": "2024-01-24T17:54:13.865Z"
   },
   {
    "duration": 18,
    "start_time": "2024-01-24T17:54:26.440Z"
   },
   {
    "duration": 26,
    "start_time": "2024-01-24T17:55:07.271Z"
   },
   {
    "duration": 27,
    "start_time": "2024-01-24T17:55:34.878Z"
   },
   {
    "duration": 84,
    "start_time": "2024-01-24T17:55:47.193Z"
   },
   {
    "duration": 18,
    "start_time": "2024-01-24T17:56:03.906Z"
   },
   {
    "duration": 22,
    "start_time": "2024-01-24T17:56:22.009Z"
   },
   {
    "duration": 24,
    "start_time": "2024-01-24T17:59:18.033Z"
   },
   {
    "duration": 19,
    "start_time": "2024-01-24T18:00:14.254Z"
   },
   {
    "duration": 18,
    "start_time": "2024-01-24T18:01:44.146Z"
   },
   {
    "duration": 25,
    "start_time": "2024-01-24T18:02:13.714Z"
   },
   {
    "duration": 20,
    "start_time": "2024-01-24T18:05:32.944Z"
   },
   {
    "duration": 293,
    "start_time": "2024-01-24T18:07:10.851Z"
   },
   {
    "duration": 430,
    "start_time": "2024-01-24T18:07:43.637Z"
   },
   {
    "duration": 320,
    "start_time": "2024-01-24T18:08:22.044Z"
   },
   {
    "duration": 30,
    "start_time": "2024-01-24T18:08:30.306Z"
   },
   {
    "duration": 19,
    "start_time": "2024-01-24T18:09:21.046Z"
   },
   {
    "duration": 16,
    "start_time": "2024-01-24T18:09:39.192Z"
   },
   {
    "duration": 373,
    "start_time": "2024-01-24T18:10:12.686Z"
   },
   {
    "duration": 337,
    "start_time": "2024-01-24T18:10:26.769Z"
   },
   {
    "duration": 34,
    "start_time": "2024-01-24T18:11:07.698Z"
   },
   {
    "duration": 26,
    "start_time": "2024-01-24T18:14:37.877Z"
   },
   {
    "duration": 625,
    "start_time": "2024-01-24T18:15:57.520Z"
   },
   {
    "duration": 142,
    "start_time": "2024-01-24T18:17:40.949Z"
   },
   {
    "duration": 148,
    "start_time": "2024-01-24T18:17:56.548Z"
   },
   {
    "duration": 159,
    "start_time": "2024-01-24T18:18:52.573Z"
   },
   {
    "duration": 8,
    "start_time": "2024-01-24T18:19:59.657Z"
   },
   {
    "duration": 8,
    "start_time": "2024-01-24T18:20:09.035Z"
   },
   {
    "duration": 99,
    "start_time": "2024-01-24T18:22:21.398Z"
   },
   {
    "duration": 169,
    "start_time": "2024-01-24T18:22:35.695Z"
   },
   {
    "duration": 163,
    "start_time": "2024-01-24T18:23:54.074Z"
   },
   {
    "duration": 113,
    "start_time": "2024-01-24T18:28:31.013Z"
   },
   {
    "duration": 102,
    "start_time": "2024-01-24T18:29:08.438Z"
   },
   {
    "duration": 97,
    "start_time": "2024-01-24T18:29:14.820Z"
   },
   {
    "duration": 26,
    "start_time": "2024-01-24T18:29:26.982Z"
   },
   {
    "duration": 1121,
    "start_time": "2024-01-24T18:31:28.735Z"
   },
   {
    "duration": 1084,
    "start_time": "2024-01-24T18:32:24.067Z"
   },
   {
    "duration": 1147,
    "start_time": "2024-01-24T18:32:55.336Z"
   },
   {
    "duration": 15,
    "start_time": "2024-01-24T18:33:35.058Z"
   },
   {
    "duration": 17,
    "start_time": "2024-01-24T18:34:29.784Z"
   },
   {
    "duration": 186,
    "start_time": "2024-01-24T18:42:00.759Z"
   },
   {
    "duration": 12,
    "start_time": "2024-01-24T18:47:54.739Z"
   },
   {
    "duration": 11,
    "start_time": "2024-01-24T18:48:13.970Z"
   },
   {
    "duration": 12,
    "start_time": "2024-01-24T18:48:40.427Z"
   },
   {
    "duration": 184,
    "start_time": "2024-01-24T18:49:17.528Z"
   },
   {
    "duration": 158,
    "start_time": "2024-01-24T18:50:06.937Z"
   },
   {
    "duration": 189,
    "start_time": "2024-01-24T18:53:03.951Z"
   },
   {
    "duration": 183,
    "start_time": "2024-01-24T18:53:16.054Z"
   },
   {
    "duration": 169,
    "start_time": "2024-01-24T18:53:28.956Z"
   },
   {
    "duration": 200,
    "start_time": "2024-01-24T18:54:03.012Z"
   },
   {
    "duration": 250,
    "start_time": "2024-01-24T18:54:16.941Z"
   },
   {
    "duration": 185,
    "start_time": "2024-01-24T18:54:34.604Z"
   },
   {
    "duration": 189,
    "start_time": "2024-01-24T18:55:01.429Z"
   },
   {
    "duration": 163,
    "start_time": "2024-01-24T18:56:07.133Z"
   },
   {
    "duration": 1123,
    "start_time": "2024-01-24T19:01:52.273Z"
   },
   {
    "duration": 1219,
    "start_time": "2024-01-24T19:04:11.863Z"
   },
   {
    "duration": 1138,
    "start_time": "2024-01-24T19:04:18.216Z"
   },
   {
    "duration": 130,
    "start_time": "2024-01-24T19:04:49.652Z"
   },
   {
    "duration": 148,
    "start_time": "2024-01-24T19:06:05.109Z"
   },
   {
    "duration": 1164,
    "start_time": "2024-01-24T19:12:43.409Z"
   },
   {
    "duration": 29,
    "start_time": "2024-01-24T19:12:54.410Z"
   },
   {
    "duration": 25,
    "start_time": "2024-01-24T19:12:59.124Z"
   },
   {
    "duration": 24,
    "start_time": "2024-01-24T19:13:08.658Z"
   },
   {
    "duration": 185,
    "start_time": "2024-01-24T19:13:09.953Z"
   },
   {
    "duration": 22,
    "start_time": "2024-01-24T19:13:11.202Z"
   },
   {
    "duration": 169,
    "start_time": "2024-01-24T19:13:11.850Z"
   },
   {
    "duration": 37,
    "start_time": "2024-01-24T19:13:12.988Z"
   },
   {
    "duration": 1153,
    "start_time": "2024-01-24T19:13:13.569Z"
   },
   {
    "duration": 107,
    "start_time": "2024-01-24T19:13:20.107Z"
   },
   {
    "duration": 17,
    "start_time": "2024-01-24T19:13:21.348Z"
   },
   {
    "duration": 20,
    "start_time": "2024-01-24T19:13:22.423Z"
   },
   {
    "duration": 11,
    "start_time": "2024-01-24T19:13:24.424Z"
   },
   {
    "duration": 41,
    "start_time": "2024-01-24T19:13:25.497Z"
   },
   {
    "duration": 4,
    "start_time": "2024-01-24T19:13:26.909Z"
   },
   {
    "duration": 8,
    "start_time": "2024-01-24T19:13:27.877Z"
   },
   {
    "duration": 4,
    "start_time": "2024-01-24T19:13:29.202Z"
   },
   {
    "duration": 6,
    "start_time": "2024-01-24T19:13:30.126Z"
   },
   {
    "duration": 6,
    "start_time": "2024-01-24T19:13:31.469Z"
   },
   {
    "duration": 9,
    "start_time": "2024-01-24T19:13:32.815Z"
   },
   {
    "duration": 5,
    "start_time": "2024-01-24T19:13:34.203Z"
   },
   {
    "duration": 5,
    "start_time": "2024-01-24T19:13:35.569Z"
   },
   {
    "duration": 38,
    "start_time": "2024-01-24T19:13:36.736Z"
   },
   {
    "duration": 11,
    "start_time": "2024-01-24T19:13:37.522Z"
   },
   {
    "duration": 4,
    "start_time": "2024-01-24T19:13:38.560Z"
   },
   {
    "duration": 12,
    "start_time": "2024-01-24T19:13:39.569Z"
   },
   {
    "duration": 21,
    "start_time": "2024-01-24T19:13:40.322Z"
   },
   {
    "duration": 19,
    "start_time": "2024-01-24T19:13:40.703Z"
   },
   {
    "duration": 3,
    "start_time": "2024-01-24T19:13:41.796Z"
   },
   {
    "duration": 12,
    "start_time": "2024-01-24T19:13:42.177Z"
   },
   {
    "duration": 6,
    "start_time": "2024-01-24T19:13:42.936Z"
   },
   {
    "duration": 4,
    "start_time": "2024-01-24T19:13:43.809Z"
   },
   {
    "duration": 9,
    "start_time": "2024-01-24T19:13:44.183Z"
   },
   {
    "duration": 20,
    "start_time": "2024-01-24T19:13:45.707Z"
   },
   {
    "duration": 167,
    "start_time": "2024-01-24T19:13:46.565Z"
   },
   {
    "duration": 19,
    "start_time": "2024-01-24T19:13:48.351Z"
   },
   {
    "duration": 148,
    "start_time": "2024-01-24T19:13:49.048Z"
   },
   {
    "duration": 25,
    "start_time": "2024-01-24T19:13:50.789Z"
   },
   {
    "duration": 1214,
    "start_time": "2024-01-24T19:13:52.270Z"
   },
   {
    "duration": 248,
    "start_time": "2024-01-24T19:14:16.069Z"
   },
   {
    "duration": 179,
    "start_time": "2024-01-24T19:14:58.529Z"
   },
   {
    "duration": 256,
    "start_time": "2024-01-24T19:15:30.783Z"
   },
   {
    "duration": 164,
    "start_time": "2024-01-24T19:15:50.205Z"
   },
   {
    "duration": 174,
    "start_time": "2024-01-24T19:16:08.799Z"
   },
   {
    "duration": 158,
    "start_time": "2024-01-24T19:23:18.240Z"
   },
   {
    "duration": 121,
    "start_time": "2024-01-24T19:24:45.238Z"
   },
   {
    "duration": 150,
    "start_time": "2024-01-24T19:28:05.645Z"
   },
   {
    "duration": 173,
    "start_time": "2024-01-24T19:29:48.475Z"
   },
   {
    "duration": 153,
    "start_time": "2024-01-24T19:31:29.020Z"
   },
   {
    "duration": 19,
    "start_time": "2024-01-24T19:35:11.636Z"
   },
   {
    "duration": 18,
    "start_time": "2024-01-24T19:35:55.136Z"
   },
   {
    "duration": 29,
    "start_time": "2024-01-24T19:36:21.132Z"
   },
   {
    "duration": 19,
    "start_time": "2024-01-24T19:36:25.123Z"
   },
   {
    "duration": 5,
    "start_time": "2024-01-24T19:36:55.264Z"
   },
   {
    "duration": 10,
    "start_time": "2024-01-24T19:37:03.919Z"
   },
   {
    "duration": 626,
    "start_time": "2024-01-24T19:39:23.398Z"
   },
   {
    "duration": 10,
    "start_time": "2024-01-24T19:39:42.224Z"
   },
   {
    "duration": 6,
    "start_time": "2024-01-24T19:40:21.699Z"
   },
   {
    "duration": 9,
    "start_time": "2024-01-24T19:40:55.691Z"
   },
   {
    "duration": 5,
    "start_time": "2024-01-24T19:41:18.593Z"
   },
   {
    "duration": 169,
    "start_time": "2024-01-24T19:41:34.353Z"
   },
   {
    "duration": 165,
    "start_time": "2024-01-24T19:42:12.435Z"
   },
   {
    "duration": 163,
    "start_time": "2024-01-24T19:42:32.487Z"
   },
   {
    "duration": 158,
    "start_time": "2024-01-24T19:42:42.774Z"
   },
   {
    "duration": 323,
    "start_time": "2024-01-24T19:43:41.240Z"
   },
   {
    "duration": 7,
    "start_time": "2024-01-24T19:44:22.643Z"
   },
   {
    "duration": 233,
    "start_time": "2024-01-24T19:44:50.020Z"
   },
   {
    "duration": 12,
    "start_time": "2024-01-24T19:47:02.064Z"
   },
   {
    "duration": 14,
    "start_time": "2024-01-24T19:47:39.107Z"
   },
   {
    "duration": 12,
    "start_time": "2024-01-24T19:49:28.819Z"
   },
   {
    "duration": 17,
    "start_time": "2024-01-24T19:50:20.432Z"
   },
   {
    "duration": 11,
    "start_time": "2024-01-24T19:50:32.275Z"
   },
   {
    "duration": 99,
    "start_time": "2024-01-24T19:51:42.469Z"
   },
   {
    "duration": 27,
    "start_time": "2024-01-24T19:51:52.026Z"
   },
   {
    "duration": 22,
    "start_time": "2024-01-24T19:52:02.410Z"
   },
   {
    "duration": 13,
    "start_time": "2024-01-24T19:53:12.605Z"
   },
   {
    "duration": 6,
    "start_time": "2024-01-24T19:53:27.284Z"
   },
   {
    "duration": 9,
    "start_time": "2024-01-24T19:54:02.077Z"
   },
   {
    "duration": 22,
    "start_time": "2024-01-24T19:55:51.464Z"
   },
   {
    "duration": 22,
    "start_time": "2024-01-24T19:55:58.502Z"
   },
   {
    "duration": 25,
    "start_time": "2024-01-24T19:56:20.039Z"
   },
   {
    "duration": 246,
    "start_time": "2024-01-24T19:57:00.621Z"
   },
   {
    "duration": 12,
    "start_time": "2024-01-24T19:59:41.313Z"
   },
   {
    "duration": 16,
    "start_time": "2024-01-24T20:01:32.140Z"
   },
   {
    "duration": 8,
    "start_time": "2024-01-24T20:02:05.368Z"
   },
   {
    "duration": 99,
    "start_time": "2024-01-24T20:02:19.156Z"
   },
   {
    "duration": 109,
    "start_time": "2024-01-24T20:02:29.956Z"
   },
   {
    "duration": 120,
    "start_time": "2024-01-24T20:02:49.869Z"
   },
   {
    "duration": 102,
    "start_time": "2024-01-24T20:03:01.875Z"
   },
   {
    "duration": 9,
    "start_time": "2024-01-24T20:03:20.697Z"
   },
   {
    "duration": 8,
    "start_time": "2024-01-24T20:03:28.230Z"
   },
   {
    "duration": 8,
    "start_time": "2024-01-24T20:03:34.103Z"
   },
   {
    "duration": 9,
    "start_time": "2024-01-24T20:03:49.061Z"
   },
   {
    "duration": 11,
    "start_time": "2024-01-24T20:04:03.910Z"
   },
   {
    "duration": 224,
    "start_time": "2024-01-24T20:04:34.931Z"
   },
   {
    "duration": 245,
    "start_time": "2024-01-24T20:05:59.640Z"
   },
   {
    "duration": 22,
    "start_time": "2024-01-24T20:08:51.473Z"
   },
   {
    "duration": 23,
    "start_time": "2024-01-24T20:09:08.164Z"
   },
   {
    "duration": 9,
    "start_time": "2024-01-24T20:09:17.227Z"
   },
   {
    "duration": 10,
    "start_time": "2024-01-24T20:09:46.238Z"
   },
   {
    "duration": 10,
    "start_time": "2024-01-24T20:10:01.256Z"
   },
   {
    "duration": 7,
    "start_time": "2024-01-24T20:10:34.078Z"
   },
   {
    "duration": 175,
    "start_time": "2024-01-24T20:10:44.642Z"
   },
   {
    "duration": 171,
    "start_time": "2024-01-24T20:11:12.769Z"
   },
   {
    "duration": 149,
    "start_time": "2024-01-24T20:12:04.773Z"
   },
   {
    "duration": 153,
    "start_time": "2024-01-24T20:12:56.437Z"
   },
   {
    "duration": 25,
    "start_time": "2024-01-24T20:46:22.693Z"
   },
   {
    "duration": 22,
    "start_time": "2024-01-24T20:47:11.997Z"
   },
   {
    "duration": 1117,
    "start_time": "2024-01-24T20:47:20.265Z"
   },
   {
    "duration": 32,
    "start_time": "2024-01-24T20:47:48.992Z"
   },
   {
    "duration": 142,
    "start_time": "2024-01-24T20:47:54.051Z"
   },
   {
    "duration": 898,
    "start_time": "2024-01-28T16:54:25.504Z"
   },
   {
    "duration": 19,
    "start_time": "2024-01-28T16:54:26.542Z"
   },
   {
    "duration": 15,
    "start_time": "2024-01-28T16:54:27.834Z"
   },
   {
    "duration": 11,
    "start_time": "2024-01-28T16:54:29.958Z"
   },
   {
    "duration": 37,
    "start_time": "2024-01-28T16:54:31.002Z"
   },
   {
    "duration": 3,
    "start_time": "2024-01-28T16:54:32.531Z"
   },
   {
    "duration": 7,
    "start_time": "2024-01-28T16:54:33.591Z"
   },
   {
    "duration": 4,
    "start_time": "2024-01-28T16:54:35.233Z"
   },
   {
    "duration": 5,
    "start_time": "2024-01-28T16:54:36.308Z"
   },
   {
    "duration": 6,
    "start_time": "2024-01-28T16:54:37.410Z"
   },
   {
    "duration": 8,
    "start_time": "2024-01-28T16:54:39.085Z"
   },
   {
    "duration": 4,
    "start_time": "2024-01-28T16:54:41.007Z"
   },
   {
    "duration": 5,
    "start_time": "2024-01-28T16:54:41.918Z"
   },
   {
    "duration": 36,
    "start_time": "2024-01-28T16:54:43.458Z"
   },
   {
    "duration": 10,
    "start_time": "2024-01-28T16:54:44.597Z"
   },
   {
    "duration": 3,
    "start_time": "2024-01-28T16:54:46.204Z"
   },
   {
    "duration": 12,
    "start_time": "2024-01-28T16:54:47.789Z"
   },
   {
    "duration": 18,
    "start_time": "2024-01-28T16:54:48.874Z"
   },
   {
    "duration": 17,
    "start_time": "2024-01-28T16:54:49.368Z"
   },
   {
    "duration": 4,
    "start_time": "2024-01-28T16:54:51.198Z"
   },
   {
    "duration": 10,
    "start_time": "2024-01-28T16:54:51.740Z"
   },
   {
    "duration": 5,
    "start_time": "2024-01-28T16:54:52.738Z"
   },
   {
    "duration": 3,
    "start_time": "2024-01-28T16:54:53.816Z"
   },
   {
    "duration": 8,
    "start_time": "2024-01-28T16:54:54.397Z"
   },
   {
    "duration": 19,
    "start_time": "2024-01-28T16:54:56.416Z"
   },
   {
    "duration": 174,
    "start_time": "2024-01-28T16:54:57.369Z"
   },
   {
    "duration": 21,
    "start_time": "2024-01-28T16:54:58.914Z"
   },
   {
    "duration": 140,
    "start_time": "2024-01-28T16:55:00.028Z"
   },
   {
    "duration": 19,
    "start_time": "2024-01-28T16:55:01.736Z"
   },
   {
    "duration": 23,
    "start_time": "2024-01-28T16:55:02.554Z"
   },
   {
    "duration": 131,
    "start_time": "2024-01-28T16:55:03.936Z"
   },
   {
    "duration": 7,
    "start_time": "2024-01-28T16:55:19.410Z"
   },
   {
    "duration": 8,
    "start_time": "2024-01-28T16:55:19.988Z"
   },
   {
    "duration": 10,
    "start_time": "2024-01-28T16:55:20.597Z"
   },
   {
    "duration": 6,
    "start_time": "2024-01-28T16:55:23.118Z"
   },
   {
    "duration": 7,
    "start_time": "2024-01-28T16:55:23.603Z"
   },
   {
    "duration": 10,
    "start_time": "2024-01-28T16:55:24.083Z"
   },
   {
    "duration": 7,
    "start_time": "2024-01-28T16:55:26.488Z"
   },
   {
    "duration": 9,
    "start_time": "2024-01-28T16:55:26.953Z"
   },
   {
    "duration": 9,
    "start_time": "2024-01-28T16:55:27.484Z"
   },
   {
    "duration": 97,
    "start_time": "2024-01-28T16:55:29.962Z"
   },
   {
    "duration": 19,
    "start_time": "2024-01-28T17:33:38.275Z"
   },
   {
    "duration": 161,
    "start_time": "2024-01-28T18:26:10.099Z"
   },
   {
    "duration": 30,
    "start_time": "2024-01-28T18:37:18.188Z"
   },
   {
    "duration": 23,
    "start_time": "2024-01-28T18:39:38.977Z"
   },
   {
    "duration": 19,
    "start_time": "2024-01-28T18:47:14.884Z"
   },
   {
    "duration": 216,
    "start_time": "2024-01-28T18:47:15.605Z"
   },
   {
    "duration": 19,
    "start_time": "2024-01-28T18:47:17.051Z"
   },
   {
    "duration": 143,
    "start_time": "2024-01-28T18:47:21.796Z"
   },
   {
    "duration": 29,
    "start_time": "2024-01-28T18:47:23.612Z"
   },
   {
    "duration": 35,
    "start_time": "2024-01-28T18:47:25.907Z"
   },
   {
    "duration": 131,
    "start_time": "2024-01-28T18:47:27.235Z"
   },
   {
    "duration": 22,
    "start_time": "2024-01-28T18:47:35.006Z"
   },
   {
    "duration": 165,
    "start_time": "2024-01-28T18:47:41.347Z"
   },
   {
    "duration": 22,
    "start_time": "2024-01-28T18:50:23.173Z"
   },
   {
    "duration": 1165,
    "start_time": "2024-01-28T18:52:23.735Z"
   },
   {
    "duration": 5,
    "start_time": "2024-01-28T18:53:40.509Z"
   },
   {
    "duration": 11,
    "start_time": "2024-01-28T18:54:04.703Z"
   },
   {
    "duration": 145,
    "start_time": "2024-01-28T18:55:56.115Z"
   },
   {
    "duration": 153,
    "start_time": "2024-01-28T18:56:16.381Z"
   },
   {
    "duration": 12,
    "start_time": "2024-01-28T18:56:48.518Z"
   },
   {
    "duration": 12,
    "start_time": "2024-01-28T18:56:58.006Z"
   },
   {
    "duration": 162,
    "start_time": "2024-01-28T18:57:35.609Z"
   },
   {
    "duration": 154,
    "start_time": "2024-01-28T18:57:38.577Z"
   },
   {
    "duration": 6,
    "start_time": "2024-01-28T18:58:01.183Z"
   },
   {
    "duration": 6,
    "start_time": "2024-01-28T18:58:19.264Z"
   },
   {
    "duration": 6,
    "start_time": "2024-01-28T18:58:23.856Z"
   },
   {
    "duration": 6,
    "start_time": "2024-01-28T18:58:48.455Z"
   },
   {
    "duration": 6,
    "start_time": "2024-01-28T18:59:09.886Z"
   },
   {
    "duration": 9,
    "start_time": "2024-01-28T18:59:19.657Z"
   },
   {
    "duration": 11,
    "start_time": "2024-01-28T18:59:22.956Z"
   },
   {
    "duration": 6,
    "start_time": "2024-01-28T18:59:27.744Z"
   },
   {
    "duration": 5,
    "start_time": "2024-01-28T18:59:43.638Z"
   },
   {
    "duration": 6,
    "start_time": "2024-01-28T18:59:45.808Z"
   },
   {
    "duration": 146,
    "start_time": "2024-01-28T19:00:37.010Z"
   },
   {
    "duration": 143,
    "start_time": "2024-01-28T19:02:14.674Z"
   },
   {
    "duration": 151,
    "start_time": "2024-01-28T19:02:36.017Z"
   },
   {
    "duration": 10,
    "start_time": "2024-01-28T19:02:54.663Z"
   },
   {
    "duration": 10,
    "start_time": "2024-01-28T19:03:28.531Z"
   },
   {
    "duration": 224,
    "start_time": "2024-01-28T19:03:46.534Z"
   },
   {
    "duration": 27,
    "start_time": "2024-01-28T19:04:34.989Z"
   },
   {
    "duration": 143,
    "start_time": "2024-01-28T19:04:45.781Z"
   },
   {
    "duration": 11,
    "start_time": "2024-01-28T19:06:35.154Z"
   },
   {
    "duration": 10,
    "start_time": "2024-01-28T19:07:03.103Z"
   },
   {
    "duration": 11,
    "start_time": "2024-01-28T19:07:49.451Z"
   },
   {
    "duration": 22,
    "start_time": "2024-01-28T19:07:53.295Z"
   },
   {
    "duration": 1143,
    "start_time": "2024-01-28T19:07:55.658Z"
   },
   {
    "duration": 1122,
    "start_time": "2024-01-28T19:09:20.096Z"
   },
   {
    "duration": 8,
    "start_time": "2024-01-28T19:09:30.971Z"
   },
   {
    "duration": 8,
    "start_time": "2024-01-28T19:09:41.624Z"
   },
   {
    "duration": 25,
    "start_time": "2024-01-28T19:10:22.164Z"
   },
   {
    "duration": 24,
    "start_time": "2024-01-28T19:12:03.761Z"
   },
   {
    "duration": 16,
    "start_time": "2024-01-28T19:12:14.324Z"
   },
   {
    "duration": 10,
    "start_time": "2024-01-28T19:12:38.733Z"
   },
   {
    "duration": 6,
    "start_time": "2024-01-28T19:13:38.422Z"
   },
   {
    "duration": 5,
    "start_time": "2024-01-28T19:13:44.791Z"
   },
   {
    "duration": 5,
    "start_time": "2024-01-28T19:13:55.535Z"
   },
   {
    "duration": 10,
    "start_time": "2024-01-28T19:14:54.815Z"
   },
   {
    "duration": 16,
    "start_time": "2024-01-28T19:15:11.657Z"
   },
   {
    "duration": 103,
    "start_time": "2024-01-28T19:16:28.676Z"
   },
   {
    "duration": 16,
    "start_time": "2024-01-28T19:16:34.625Z"
   },
   {
    "duration": 150,
    "start_time": "2024-01-28T19:17:12.748Z"
   },
   {
    "duration": 11,
    "start_time": "2024-01-28T19:17:47.723Z"
   },
   {
    "duration": 13,
    "start_time": "2024-01-28T19:18:00.098Z"
   },
   {
    "duration": 11,
    "start_time": "2024-01-28T19:18:11.170Z"
   },
   {
    "duration": 8,
    "start_time": "2024-01-28T19:18:18.554Z"
   },
   {
    "duration": 8,
    "start_time": "2024-01-28T19:18:26.372Z"
   },
   {
    "duration": 16,
    "start_time": "2024-01-28T19:19:09.586Z"
   },
   {
    "duration": 15,
    "start_time": "2024-01-28T19:20:36.286Z"
   },
   {
    "duration": 7,
    "start_time": "2024-01-28T19:20:59.384Z"
   },
   {
    "duration": 7,
    "start_time": "2024-01-28T19:21:04.285Z"
   },
   {
    "duration": 5,
    "start_time": "2024-01-28T19:21:10.475Z"
   },
   {
    "duration": 7,
    "start_time": "2024-01-28T19:21:21.586Z"
   },
   {
    "duration": 11,
    "start_time": "2024-01-28T19:21:52.166Z"
   },
   {
    "duration": 9,
    "start_time": "2024-01-28T19:22:03.688Z"
   },
   {
    "duration": 26,
    "start_time": "2024-01-28T19:22:06.825Z"
   },
   {
    "duration": 10,
    "start_time": "2024-01-28T19:22:09.965Z"
   },
   {
    "duration": 15,
    "start_time": "2024-01-28T19:22:38.321Z"
   },
   {
    "duration": 8,
    "start_time": "2024-01-28T19:25:43.836Z"
   },
   {
    "duration": 1251,
    "start_time": "2024-01-28T19:26:01.738Z"
   },
   {
    "duration": 127,
    "start_time": "2024-01-28T19:26:16.652Z"
   },
   {
    "duration": 184,
    "start_time": "2024-01-28T19:29:22.858Z"
   },
   {
    "duration": 10,
    "start_time": "2024-01-28T19:33:12.771Z"
   },
   {
    "duration": 89,
    "start_time": "2024-01-28T19:33:54.297Z"
   },
   {
    "duration": 16,
    "start_time": "2024-01-28T19:33:55.163Z"
   },
   {
    "duration": 18,
    "start_time": "2024-01-28T19:33:55.665Z"
   },
   {
    "duration": 11,
    "start_time": "2024-01-28T19:33:56.516Z"
   },
   {
    "duration": 36,
    "start_time": "2024-01-28T19:33:56.925Z"
   },
   {
    "duration": 4,
    "start_time": "2024-01-28T19:33:57.577Z"
   },
   {
    "duration": 11,
    "start_time": "2024-01-28T19:33:58.019Z"
   },
   {
    "duration": 5,
    "start_time": "2024-01-28T19:33:58.642Z"
   },
   {
    "duration": 5,
    "start_time": "2024-01-28T19:33:59.060Z"
   },
   {
    "duration": 6,
    "start_time": "2024-01-28T19:33:59.474Z"
   },
   {
    "duration": 11,
    "start_time": "2024-01-28T19:34:00.111Z"
   },
   {
    "duration": 4,
    "start_time": "2024-01-28T19:34:00.527Z"
   },
   {
    "duration": 6,
    "start_time": "2024-01-28T19:34:00.949Z"
   },
   {
    "duration": 51,
    "start_time": "2024-01-28T19:34:01.554Z"
   },
   {
    "duration": 11,
    "start_time": "2024-01-28T19:34:01.994Z"
   },
   {
    "duration": 3,
    "start_time": "2024-01-28T19:34:02.666Z"
   },
   {
    "duration": 11,
    "start_time": "2024-01-28T19:34:03.270Z"
   },
   {
    "duration": 19,
    "start_time": "2024-01-28T19:34:03.674Z"
   },
   {
    "duration": 21,
    "start_time": "2024-01-28T19:34:03.888Z"
   },
   {
    "duration": 3,
    "start_time": "2024-01-28T19:34:04.537Z"
   },
   {
    "duration": 11,
    "start_time": "2024-01-28T19:34:04.749Z"
   },
   {
    "duration": 7,
    "start_time": "2024-01-28T19:34:05.185Z"
   },
   {
    "duration": 4,
    "start_time": "2024-01-28T19:34:05.629Z"
   },
   {
    "duration": 8,
    "start_time": "2024-01-28T19:34:05.849Z"
   },
   {
    "duration": 20,
    "start_time": "2024-01-28T19:34:06.696Z"
   },
   {
    "duration": 160,
    "start_time": "2024-01-28T19:34:06.912Z"
   },
   {
    "duration": 19,
    "start_time": "2024-01-28T19:34:08.148Z"
   },
   {
    "duration": 152,
    "start_time": "2024-01-28T19:34:08.415Z"
   },
   {
    "duration": 23,
    "start_time": "2024-01-28T19:34:08.954Z"
   },
   {
    "duration": 23,
    "start_time": "2024-01-28T19:34:09.254Z"
   },
   {
    "duration": 135,
    "start_time": "2024-01-28T19:34:09.537Z"
   },
   {
    "duration": 19,
    "start_time": "2024-01-28T19:34:12.368Z"
   },
   {
    "duration": 166,
    "start_time": "2024-01-28T19:34:13.177Z"
   },
   {
    "duration": 24,
    "start_time": "2024-01-28T19:34:15.344Z"
   },
   {
    "duration": 138,
    "start_time": "2024-01-28T19:34:17.549Z"
   },
   {
    "duration": 232,
    "start_time": "2024-01-28T19:37:14.227Z"
   },
   {
    "duration": 281,
    "start_time": "2024-01-28T19:37:52.547Z"
   },
   {
    "duration": 182,
    "start_time": "2024-01-28T19:39:20.072Z"
   },
   {
    "duration": 10,
    "start_time": "2024-01-28T19:39:34.627Z"
   },
   {
    "duration": 562,
    "start_time": "2024-01-28T19:40:00.067Z"
   },
   {
    "duration": 7,
    "start_time": "2024-01-28T19:40:51.952Z"
   },
   {
    "duration": 10,
    "start_time": "2024-01-28T19:41:03.062Z"
   },
   {
    "duration": 8,
    "start_time": "2024-01-28T19:41:08.731Z"
   },
   {
    "duration": 7,
    "start_time": "2024-01-28T19:41:22.538Z"
   },
   {
    "duration": 183,
    "start_time": "2024-01-28T19:41:35.265Z"
   },
   {
    "duration": 177,
    "start_time": "2024-01-28T19:43:29.609Z"
   },
   {
    "duration": 86,
    "start_time": "2024-01-28T19:49:32.156Z"
   },
   {
    "duration": 14,
    "start_time": "2024-01-28T19:49:32.506Z"
   },
   {
    "duration": 16,
    "start_time": "2024-01-28T19:49:32.882Z"
   },
   {
    "duration": 12,
    "start_time": "2024-01-28T19:49:33.576Z"
   },
   {
    "duration": 36,
    "start_time": "2024-01-28T19:49:33.948Z"
   },
   {
    "duration": 4,
    "start_time": "2024-01-28T19:49:34.529Z"
   },
   {
    "duration": 8,
    "start_time": "2024-01-28T19:49:34.905Z"
   },
   {
    "duration": 5,
    "start_time": "2024-01-28T19:49:35.455Z"
   },
   {
    "duration": 5,
    "start_time": "2024-01-28T19:49:35.854Z"
   },
   {
    "duration": 5,
    "start_time": "2024-01-28T19:49:36.238Z"
   },
   {
    "duration": 9,
    "start_time": "2024-01-28T19:49:36.836Z"
   },
   {
    "duration": 5,
    "start_time": "2024-01-28T19:49:37.213Z"
   },
   {
    "duration": 5,
    "start_time": "2024-01-28T19:49:37.597Z"
   },
   {
    "duration": 36,
    "start_time": "2024-01-28T19:49:38.171Z"
   },
   {
    "duration": 10,
    "start_time": "2024-01-28T19:49:38.579Z"
   },
   {
    "duration": 4,
    "start_time": "2024-01-28T19:49:39.238Z"
   },
   {
    "duration": 11,
    "start_time": "2024-01-28T19:49:39.779Z"
   },
   {
    "duration": 19,
    "start_time": "2024-01-28T19:49:40.179Z"
   },
   {
    "duration": 19,
    "start_time": "2024-01-28T19:49:40.363Z"
   },
   {
    "duration": 3,
    "start_time": "2024-01-28T19:49:40.928Z"
   },
   {
    "duration": 11,
    "start_time": "2024-01-28T19:49:41.130Z"
   },
   {
    "duration": 6,
    "start_time": "2024-01-28T19:49:41.529Z"
   },
   {
    "duration": 4,
    "start_time": "2024-01-28T19:49:41.937Z"
   },
   {
    "duration": 9,
    "start_time": "2024-01-28T19:49:42.149Z"
   },
   {
    "duration": 18,
    "start_time": "2024-01-28T19:49:42.990Z"
   },
   {
    "duration": 173,
    "start_time": "2024-01-28T19:49:43.194Z"
   },
   {
    "duration": 19,
    "start_time": "2024-01-28T19:49:43.648Z"
   },
   {
    "duration": 145,
    "start_time": "2024-01-28T19:49:43.843Z"
   },
   {
    "duration": 21,
    "start_time": "2024-01-28T19:49:44.283Z"
   },
   {
    "duration": 24,
    "start_time": "2024-01-28T19:49:44.496Z"
   },
   {
    "duration": 130,
    "start_time": "2024-01-28T19:49:44.731Z"
   },
   {
    "duration": 20,
    "start_time": "2024-01-28T19:49:45.776Z"
   },
   {
    "duration": 151,
    "start_time": "2024-01-28T19:49:46.050Z"
   },
   {
    "duration": 23,
    "start_time": "2024-01-28T19:49:47.096Z"
   },
   {
    "duration": 182,
    "start_time": "2024-01-28T19:49:47.331Z"
   },
   {
    "duration": 10,
    "start_time": "2024-01-28T19:49:47.604Z"
   },
   {
    "duration": 6,
    "start_time": "2024-01-28T19:51:53.629Z"
   },
   {
    "duration": 11,
    "start_time": "2024-01-28T19:52:52.593Z"
   },
   {
    "duration": 5,
    "start_time": "2024-01-28T19:53:16.486Z"
   },
   {
    "duration": 35,
    "start_time": "2024-01-28T19:53:21.618Z"
   },
   {
    "duration": 6,
    "start_time": "2024-01-28T19:53:27.077Z"
   },
   {
    "duration": 26,
    "start_time": "2024-01-28T19:53:49.242Z"
   },
   {
    "duration": 160,
    "start_time": "2024-01-28T19:53:53.324Z"
   },
   {
    "duration": 25,
    "start_time": "2024-01-28T19:53:55.898Z"
   },
   {
    "duration": 22,
    "start_time": "2024-01-28T19:54:05.557Z"
   },
   {
    "duration": 10,
    "start_time": "2024-01-28T19:54:08.870Z"
   },
   {
    "duration": 8,
    "start_time": "2024-01-28T19:54:24.564Z"
   },
   {
    "duration": 11,
    "start_time": "2024-01-28T19:54:41.733Z"
   },
   {
    "duration": 11,
    "start_time": "2024-01-28T19:56:32.774Z"
   },
   {
    "duration": 10,
    "start_time": "2024-01-28T19:57:04.774Z"
   },
   {
    "duration": 302,
    "start_time": "2024-01-28T19:57:45.995Z"
   },
   {
    "duration": 17,
    "start_time": "2024-01-28T20:00:05.898Z"
   },
   {
    "duration": 99,
    "start_time": "2024-01-28T20:00:42.002Z"
   },
   {
    "duration": 25,
    "start_time": "2024-01-28T20:00:51.868Z"
   },
   {
    "duration": 26,
    "start_time": "2024-01-28T20:01:13.922Z"
   },
   {
    "duration": 193,
    "start_time": "2024-01-28T20:01:24.343Z"
   },
   {
    "duration": 16,
    "start_time": "2024-01-28T20:02:35.095Z"
   },
   {
    "duration": 13,
    "start_time": "2024-01-28T20:03:41.354Z"
   },
   {
    "duration": 12,
    "start_time": "2024-01-28T20:04:03.007Z"
   },
   {
    "duration": 16,
    "start_time": "2024-01-28T20:05:53.877Z"
   },
   {
    "duration": 12,
    "start_time": "2024-01-28T20:06:15.498Z"
   },
   {
    "duration": 92,
    "start_time": "2024-01-28T20:06:21.774Z"
   },
   {
    "duration": 24,
    "start_time": "2024-01-28T20:06:27.503Z"
   },
   {
    "duration": 12,
    "start_time": "2024-01-28T20:06:30.562Z"
   },
   {
    "duration": 13,
    "start_time": "2024-01-28T20:07:04.821Z"
   },
   {
    "duration": 25,
    "start_time": "2024-01-28T20:07:07.527Z"
   },
   {
    "duration": 13,
    "start_time": "2024-01-28T20:07:09.480Z"
   },
   {
    "duration": 18,
    "start_time": "2024-01-28T20:11:52.585Z"
   },
   {
    "duration": 18,
    "start_time": "2024-01-28T20:12:47.302Z"
   },
   {
    "duration": 107,
    "start_time": "2024-01-28T20:13:15.043Z"
   },
   {
    "duration": 99,
    "start_time": "2024-01-28T20:13:20.618Z"
   },
   {
    "duration": 234,
    "start_time": "2024-01-28T20:13:28.149Z"
   },
   {
    "duration": 272,
    "start_time": "2024-01-28T20:14:47.380Z"
   },
   {
    "duration": 234,
    "start_time": "2024-01-28T20:15:25.499Z"
   },
   {
    "duration": 110,
    "start_time": "2024-01-28T20:16:15.438Z"
   },
   {
    "duration": 105,
    "start_time": "2024-01-28T20:16:27.067Z"
   },
   {
    "duration": 248,
    "start_time": "2024-01-28T20:16:41.792Z"
   },
   {
    "duration": 51,
    "start_time": "2024-01-29T17:34:55.063Z"
   },
   {
    "duration": 7,
    "start_time": "2024-01-29T17:35:45.706Z"
   },
   {
    "duration": 973,
    "start_time": "2024-01-29T17:35:53.246Z"
   },
   {
    "duration": 22,
    "start_time": "2024-01-29T17:35:54.222Z"
   },
   {
    "duration": 18,
    "start_time": "2024-01-29T17:35:54.246Z"
   },
   {
    "duration": 12,
    "start_time": "2024-01-29T17:35:54.762Z"
   },
   {
    "duration": 39,
    "start_time": "2024-01-29T17:35:55.178Z"
   },
   {
    "duration": 3,
    "start_time": "2024-01-29T17:35:55.730Z"
   },
   {
    "duration": 9,
    "start_time": "2024-01-29T17:35:56.118Z"
   },
   {
    "duration": 5,
    "start_time": "2024-01-29T17:35:56.714Z"
   },
   {
    "duration": 5,
    "start_time": "2024-01-29T17:35:57.093Z"
   },
   {
    "duration": 6,
    "start_time": "2024-01-29T17:35:57.512Z"
   },
   {
    "duration": 9,
    "start_time": "2024-01-29T17:35:58.105Z"
   },
   {
    "duration": 5,
    "start_time": "2024-01-29T17:35:58.509Z"
   },
   {
    "duration": 5,
    "start_time": "2024-01-29T17:35:58.942Z"
   },
   {
    "duration": 45,
    "start_time": "2024-01-29T17:35:59.763Z"
   },
   {
    "duration": 11,
    "start_time": "2024-01-29T17:36:00.216Z"
   },
   {
    "duration": 4,
    "start_time": "2024-01-29T17:36:00.986Z"
   },
   {
    "duration": 13,
    "start_time": "2024-01-29T17:36:01.563Z"
   },
   {
    "duration": 23,
    "start_time": "2024-01-29T17:36:01.968Z"
   },
   {
    "duration": 189,
    "start_time": "2024-01-29T17:36:02.165Z"
   },
   {
    "duration": 4,
    "start_time": "2024-01-29T17:36:02.769Z"
   },
   {
    "duration": 12,
    "start_time": "2024-01-29T17:36:02.974Z"
   },
   {
    "duration": 6,
    "start_time": "2024-01-29T17:36:03.415Z"
   },
   {
    "duration": 4,
    "start_time": "2024-01-29T17:36:04.029Z"
   },
   {
    "duration": 9,
    "start_time": "2024-01-29T17:36:04.234Z"
   },
   {
    "duration": 24,
    "start_time": "2024-01-29T17:36:05.052Z"
   },
   {
    "duration": 199,
    "start_time": "2024-01-29T17:36:05.277Z"
   },
   {
    "duration": 202,
    "start_time": "2024-01-29T17:36:05.731Z"
   },
   {
    "duration": 182,
    "start_time": "2024-01-29T17:36:05.950Z"
   },
   {
    "duration": 21,
    "start_time": "2024-01-29T17:36:06.350Z"
   },
   {
    "duration": 27,
    "start_time": "2024-01-29T17:36:06.581Z"
   },
   {
    "duration": 150,
    "start_time": "2024-01-29T17:36:06.847Z"
   },
   {
    "duration": 22,
    "start_time": "2024-01-29T17:36:07.951Z"
   },
   {
    "duration": 174,
    "start_time": "2024-01-29T17:36:08.168Z"
   },
   {
    "duration": 29,
    "start_time": "2024-01-29T17:36:08.577Z"
   },
   {
    "duration": 15,
    "start_time": "2024-01-29T17:36:08.798Z"
   },
   {
    "duration": 40,
    "start_time": "2024-01-29T17:36:09.010Z"
   },
   {
    "duration": 9,
    "start_time": "2024-01-29T17:36:13.190Z"
   },
   {
    "duration": 7,
    "start_time": "2024-01-29T17:36:15.329Z"
   },
   {
    "duration": 8,
    "start_time": "2024-01-29T17:36:15.889Z"
   },
   {
    "duration": 83,
    "start_time": "2024-01-29T17:37:45.975Z"
   },
   {
    "duration": 219,
    "start_time": "2024-01-29T17:38:03.638Z"
   },
   {
    "duration": 22,
    "start_time": "2024-01-29T17:38:39.026Z"
   },
   {
    "duration": 22,
    "start_time": "2024-01-29T17:38:49.201Z"
   },
   {
    "duration": 190,
    "start_time": "2024-01-29T17:38:57.920Z"
   },
   {
    "duration": 638,
    "start_time": "2024-01-29T17:40:41.224Z"
   },
   {
    "duration": 16,
    "start_time": "2024-01-29T17:40:42.279Z"
   },
   {
    "duration": 18,
    "start_time": "2024-01-29T17:40:43.203Z"
   },
   {
    "duration": 11,
    "start_time": "2024-01-29T17:40:43.949Z"
   },
   {
    "duration": 37,
    "start_time": "2024-01-29T17:40:44.325Z"
   },
   {
    "duration": 4,
    "start_time": "2024-01-29T17:40:44.900Z"
   },
   {
    "duration": 8,
    "start_time": "2024-01-29T17:40:45.236Z"
   },
   {
    "duration": 5,
    "start_time": "2024-01-29T17:40:45.795Z"
   },
   {
    "duration": 6,
    "start_time": "2024-01-29T17:40:46.195Z"
   },
   {
    "duration": 6,
    "start_time": "2024-01-29T17:40:46.593Z"
   },
   {
    "duration": 9,
    "start_time": "2024-01-29T17:40:47.195Z"
   },
   {
    "duration": 6,
    "start_time": "2024-01-29T17:40:47.617Z"
   },
   {
    "duration": 6,
    "start_time": "2024-01-29T17:40:47.973Z"
   },
   {
    "duration": 39,
    "start_time": "2024-01-29T17:40:48.664Z"
   },
   {
    "duration": 13,
    "start_time": "2024-01-29T17:40:49.022Z"
   },
   {
    "duration": 4,
    "start_time": "2024-01-29T17:40:49.572Z"
   },
   {
    "duration": 12,
    "start_time": "2024-01-29T17:40:50.133Z"
   },
   {
    "duration": 20,
    "start_time": "2024-01-29T17:40:50.506Z"
   },
   {
    "duration": 21,
    "start_time": "2024-01-29T17:40:50.712Z"
   },
   {
    "duration": 4,
    "start_time": "2024-01-29T17:40:51.250Z"
   },
   {
    "duration": 12,
    "start_time": "2024-01-29T17:40:51.419Z"
   },
   {
    "duration": 6,
    "start_time": "2024-01-29T17:40:51.803Z"
   },
   {
    "duration": 4,
    "start_time": "2024-01-29T17:40:52.189Z"
   },
   {
    "duration": 10,
    "start_time": "2024-01-29T17:40:52.410Z"
   },
   {
    "duration": 20,
    "start_time": "2024-01-29T17:40:53.265Z"
   },
   {
    "duration": 173,
    "start_time": "2024-01-29T17:40:53.460Z"
   },
   {
    "duration": 21,
    "start_time": "2024-01-29T17:40:53.895Z"
   },
   {
    "duration": 156,
    "start_time": "2024-01-29T17:40:54.125Z"
   },
   {
    "duration": 24,
    "start_time": "2024-01-29T17:40:54.915Z"
   },
   {
    "duration": 27,
    "start_time": "2024-01-29T17:40:55.546Z"
   },
   {
    "duration": 218,
    "start_time": "2024-01-29T17:40:56.231Z"
   },
   {
    "duration": 24,
    "start_time": "2024-01-29T17:41:22.923Z"
   },
   {
    "duration": 223,
    "start_time": "2024-01-29T17:41:23.892Z"
   },
   {
    "duration": 43,
    "start_time": "2024-01-29T17:41:25.205Z"
   },
   {
    "duration": 208,
    "start_time": "2024-01-29T17:41:27.653Z"
   },
   {
    "duration": 254,
    "start_time": "2024-01-29T17:41:57.990Z"
   },
   {
    "duration": 58,
    "start_time": "2024-01-29T17:43:30.431Z"
   },
   {
    "duration": 242,
    "start_time": "2024-01-29T17:43:56.978Z"
   },
   {
    "duration": 234,
    "start_time": "2024-01-29T17:57:46.517Z"
   },
   {
    "duration": 20,
    "start_time": "2024-01-29T17:58:53.454Z"
   },
   {
    "duration": 162,
    "start_time": "2024-01-29T17:58:54.052Z"
   },
   {
    "duration": 23,
    "start_time": "2024-01-29T17:58:55.084Z"
   },
   {
    "duration": 27,
    "start_time": "2024-01-29T17:58:55.589Z"
   },
   {
    "duration": 230,
    "start_time": "2024-01-29T17:58:56.592Z"
   },
   {
    "duration": 23,
    "start_time": "2024-01-29T17:59:03.084Z"
   },
   {
    "duration": 178,
    "start_time": "2024-01-29T17:59:03.840Z"
   },
   {
    "duration": 28,
    "start_time": "2024-01-29T17:59:05.322Z"
   },
   {
    "duration": 262,
    "start_time": "2024-01-29T17:59:05.960Z"
   },
   {
    "duration": 11,
    "start_time": "2024-01-29T17:59:06.641Z"
   },
   {
    "duration": 253,
    "start_time": "2024-01-29T17:59:31.420Z"
   },
   {
    "duration": 121,
    "start_time": "2024-01-29T17:59:46.623Z"
   },
   {
    "duration": 149,
    "start_time": "2024-01-29T18:00:08.066Z"
   },
   {
    "duration": 10,
    "start_time": "2024-01-29T18:00:26.137Z"
   },
   {
    "duration": 10,
    "start_time": "2024-01-29T18:00:28.918Z"
   },
   {
    "duration": 346,
    "start_time": "2024-01-29T18:09:26.010Z"
   },
   {
    "duration": 22,
    "start_time": "2024-01-29T18:09:46.922Z"
   },
   {
    "duration": 21,
    "start_time": "2024-01-29T18:09:55.717Z"
   },
   {
    "duration": 19,
    "start_time": "2024-01-29T18:10:09.220Z"
   },
   {
    "duration": 23,
    "start_time": "2024-01-29T18:11:31.253Z"
   },
   {
    "duration": 20,
    "start_time": "2024-01-29T18:12:03.428Z"
   },
   {
    "duration": 329,
    "start_time": "2024-01-29T18:12:49.997Z"
   },
   {
    "duration": 346,
    "start_time": "2024-01-29T18:13:00.348Z"
   },
   {
    "duration": 27,
    "start_time": "2024-01-29T18:13:30.284Z"
   },
   {
    "duration": 20,
    "start_time": "2024-01-29T18:13:40.364Z"
   },
   {
    "duration": 29,
    "start_time": "2024-01-29T18:14:01.211Z"
   },
   {
    "duration": 27,
    "start_time": "2024-01-29T18:14:23.256Z"
   },
   {
    "duration": 1095,
    "start_time": "2024-01-29T18:15:58.786Z"
   },
   {
    "duration": 164,
    "start_time": "2024-01-29T18:16:59.476Z"
   },
   {
    "duration": 25,
    "start_time": "2024-01-29T18:26:16.261Z"
   },
   {
    "duration": 18,
    "start_time": "2024-01-29T18:29:24.886Z"
   },
   {
    "duration": 17,
    "start_time": "2024-01-29T18:29:55.698Z"
   },
   {
    "duration": 17,
    "start_time": "2024-01-29T18:30:12.451Z"
   },
   {
    "duration": 18,
    "start_time": "2024-01-29T18:32:51.529Z"
   },
   {
    "duration": 13,
    "start_time": "2024-01-29T18:34:00.943Z"
   },
   {
    "duration": 12,
    "start_time": "2024-01-29T18:34:17.610Z"
   },
   {
    "duration": 25,
    "start_time": "2024-01-29T18:34:28.710Z"
   },
   {
    "duration": 11,
    "start_time": "2024-01-29T18:34:30.718Z"
   },
   {
    "duration": 225,
    "start_time": "2024-01-29T18:35:06.344Z"
   },
   {
    "duration": 243,
    "start_time": "2024-01-29T18:36:07.948Z"
   },
   {
    "duration": 17,
    "start_time": "2024-01-29T18:36:14.007Z"
   },
   {
    "duration": 25,
    "start_time": "2024-01-29T18:36:21.443Z"
   },
   {
    "duration": 230,
    "start_time": "2024-01-29T18:36:22.377Z"
   },
   {
    "duration": 239,
    "start_time": "2024-01-29T18:36:40.146Z"
   },
   {
    "duration": 220,
    "start_time": "2024-01-29T18:36:53.757Z"
   },
   {
    "duration": 1238,
    "start_time": "2024-01-29T18:41:45.201Z"
   },
   {
    "duration": 1207,
    "start_time": "2024-01-29T18:42:49.567Z"
   },
   {
    "duration": 229,
    "start_time": "2024-01-29T18:43:10.483Z"
   },
   {
    "duration": 1249,
    "start_time": "2024-01-29T18:43:14.212Z"
   },
   {
    "duration": 25,
    "start_time": "2024-01-29T18:43:18.846Z"
   },
   {
    "duration": 23,
    "start_time": "2024-01-29T18:43:40.917Z"
   },
   {
    "duration": 24,
    "start_time": "2024-01-29T18:44:05.368Z"
   },
   {
    "duration": 24,
    "start_time": "2024-01-29T18:55:22.081Z"
   },
   {
    "duration": 29,
    "start_time": "2024-01-29T18:58:41.329Z"
   },
   {
    "duration": 23,
    "start_time": "2024-01-29T18:58:53.310Z"
   },
   {
    "duration": 26,
    "start_time": "2024-01-29T18:59:00.707Z"
   },
   {
    "duration": 93,
    "start_time": "2024-01-29T19:02:03.540Z"
   },
   {
    "duration": 17,
    "start_time": "2024-01-29T19:02:03.896Z"
   },
   {
    "duration": 17,
    "start_time": "2024-01-29T19:02:04.261Z"
   },
   {
    "duration": 13,
    "start_time": "2024-01-29T19:02:05.072Z"
   },
   {
    "duration": 41,
    "start_time": "2024-01-29T19:02:05.454Z"
   },
   {
    "duration": 5,
    "start_time": "2024-01-29T19:02:06.002Z"
   },
   {
    "duration": 8,
    "start_time": "2024-01-29T19:02:06.533Z"
   },
   {
    "duration": 4,
    "start_time": "2024-01-29T19:02:06.982Z"
   },
   {
    "duration": 5,
    "start_time": "2024-01-29T19:02:07.363Z"
   },
   {
    "duration": 5,
    "start_time": "2024-01-29T19:02:07.754Z"
   },
   {
    "duration": 8,
    "start_time": "2024-01-29T19:02:08.352Z"
   },
   {
    "duration": 5,
    "start_time": "2024-01-29T19:02:08.747Z"
   },
   {
    "duration": 5,
    "start_time": "2024-01-29T19:02:09.157Z"
   },
   {
    "duration": 41,
    "start_time": "2024-01-29T19:02:09.750Z"
   },
   {
    "duration": 11,
    "start_time": "2024-01-29T19:02:10.156Z"
   },
   {
    "duration": 4,
    "start_time": "2024-01-29T19:02:10.800Z"
   },
   {
    "duration": 12,
    "start_time": "2024-01-29T19:02:11.391Z"
   },
   {
    "duration": 20,
    "start_time": "2024-01-29T19:02:11.805Z"
   },
   {
    "duration": 19,
    "start_time": "2024-01-29T19:02:12.029Z"
   },
   {
    "duration": 4,
    "start_time": "2024-01-29T19:02:12.668Z"
   },
   {
    "duration": 12,
    "start_time": "2024-01-29T19:02:12.913Z"
   },
   {
    "duration": 6,
    "start_time": "2024-01-29T19:02:13.321Z"
   },
   {
    "duration": 4,
    "start_time": "2024-01-29T19:02:13.736Z"
   },
   {
    "duration": 10,
    "start_time": "2024-01-29T19:02:13.924Z"
   },
   {
    "duration": 23,
    "start_time": "2024-01-29T19:02:14.733Z"
   },
   {
    "duration": 157,
    "start_time": "2024-01-29T19:02:14.946Z"
   },
   {
    "duration": 20,
    "start_time": "2024-01-29T19:02:15.393Z"
   },
   {
    "duration": 230,
    "start_time": "2024-01-29T19:02:15.604Z"
   },
   {
    "duration": 26,
    "start_time": "2024-01-29T19:02:16.059Z"
   },
   {
    "duration": 26,
    "start_time": "2024-01-29T19:02:16.254Z"
   },
   {
    "duration": 219,
    "start_time": "2024-01-29T19:02:16.475Z"
   },
   {
    "duration": 23,
    "start_time": "2024-01-29T19:02:17.959Z"
   },
   {
    "duration": 158,
    "start_time": "2024-01-29T19:02:18.272Z"
   },
   {
    "duration": 30,
    "start_time": "2024-01-29T19:02:19.168Z"
   },
   {
    "duration": 268,
    "start_time": "2024-01-29T19:02:19.577Z"
   },
   {
    "duration": 21,
    "start_time": "2024-01-29T19:02:22.230Z"
   },
   {
    "duration": 138,
    "start_time": "2024-01-29T19:02:22.504Z"
   },
   {
    "duration": 27,
    "start_time": "2024-01-29T19:02:23.571Z"
   },
   {
    "duration": 227,
    "start_time": "2024-01-29T19:02:24.288Z"
   },
   {
    "duration": 10,
    "start_time": "2024-01-29T19:02:27.235Z"
   },
   {
    "duration": 9,
    "start_time": "2024-01-29T19:02:27.452Z"
   },
   {
    "duration": 12,
    "start_time": "2024-01-29T19:02:27.692Z"
   },
   {
    "duration": 102,
    "start_time": "2024-01-29T19:02:29.008Z"
   },
   {
    "duration": 24,
    "start_time": "2024-01-29T19:04:48.428Z"
   },
   {
    "duration": 235,
    "start_time": "2024-01-29T19:04:50.134Z"
   },
   {
    "duration": 24,
    "start_time": "2024-01-29T19:08:01.932Z"
   },
   {
    "duration": 223,
    "start_time": "2024-01-29T19:08:02.862Z"
   },
   {
    "duration": 23,
    "start_time": "2024-01-29T19:09:52.107Z"
   },
   {
    "duration": 20,
    "start_time": "2024-01-29T19:10:09.630Z"
   },
   {
    "duration": 142,
    "start_time": "2024-01-29T19:11:40.712Z"
   },
   {
    "duration": 174,
    "start_time": "2024-01-29T19:12:00.076Z"
   },
   {
    "duration": 144,
    "start_time": "2024-01-29T19:13:05.769Z"
   },
   {
    "duration": 126,
    "start_time": "2024-01-29T19:13:21.186Z"
   },
   {
    "duration": 181,
    "start_time": "2024-01-29T19:14:05.552Z"
   },
   {
    "duration": 154,
    "start_time": "2024-01-29T19:14:13.673Z"
   },
   {
    "duration": 25,
    "start_time": "2024-01-29T19:20:14.837Z"
   },
   {
    "duration": 20,
    "start_time": "2024-01-29T19:40:18.953Z"
   },
   {
    "duration": 113,
    "start_time": "2024-01-29T21:37:15.250Z"
   }
  ],
  "celltoolbar": "Отсутствует",
  "colab": {
   "provenance": []
  },
  "hide_code_all_hidden": false,
  "kernelspec": {
   "display_name": "Python 3 (ipykernel)",
   "language": "python",
   "name": "python3"
  },
  "language_info": {
   "codemirror_mode": {
    "name": "ipython",
    "version": 3
   },
   "file_extension": ".py",
   "mimetype": "text/x-python",
   "name": "python",
   "nbconvert_exporter": "python",
   "pygments_lexer": "ipython3",
   "version": "3.11.5"
  },
  "toc": {
   "base_numbering": 1,
   "nav_menu": {},
   "number_sections": true,
   "sideBar": true,
   "skip_h1_title": true,
   "title_cell": "Table of Contents",
   "title_sidebar": "Contents",
   "toc_cell": false,
   "toc_position": {},
   "toc_section_display": true,
   "toc_window_display": false
  }
 },
 "nbformat": 4,
 "nbformat_minor": 5
}
